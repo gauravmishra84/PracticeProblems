{
  "cells": [
    {
      "cell_type": "markdown",
      "metadata": {
        "id": "4V_eohUxe2GC"
      },
      "source": [
        "Simple Binary Search"
      ]
    },
    {
      "cell_type": "code",
      "execution_count": null,
      "metadata": {
        "colab": {
          "base_uri": "https://localhost:8080/"
        },
        "id": "w0L-gbcENm9V",
        "outputId": "810b5991-4877-4a2f-bad4-c3adc54accaa"
      },
      "outputs": [
        {
          "name": "stdout",
          "output_type": "stream",
          "text": [
            "If v is 1  0 1 0\n",
            " If count is less than 0 1 1 1\n",
            " If count is less than 0 2 1 2\n",
            " If count is less than 0 3 1 3\n",
            "Before adding the seats in final 3 1 3\n",
            "After adding the seats in final 3 2 0\n",
            " If count is less than 0 4 2 1\n",
            " If count is less than 0 5 2 2\n",
            "If v is 1  6 3 0\n",
            " If count is less than 0 7 3 1\n"
          ]
        },
        {
          "data": {
            "text/plain": [
              "3"
            ]
          },
          "execution_count": 1,
          "metadata": {},
          "output_type": "execute_result"
        }
      ],
      "source": [
        "\n",
        "#inp = [0, 0, 0, 1, 0, 0, 1, 0, 0, 0]\n",
        "\n",
        "inp=[1, 0, 0, 0, 0, 0, 1, 0]\n",
        "count = 0\n",
        "seating = 0\n",
        "for i,v in enumerate(inp):\n",
        "    if v == 1:\n",
        "        seating += 1\n",
        "        count = 0\n",
        "        print(f\"If v is 1 \",i, seating, count)\n",
        "        continue\n",
        "    if v == 0 and count <3:        \n",
        "        count += 1\n",
        "        print(f\" If count is less than 0\", i, seating, count)\n",
        "    if v==0 and count == 3 and i<len(inp)+1:\n",
        "        print(f\"Before adding the seats in final\", i,  seating, count)\n",
        "        seating += 1\n",
        "        count = 0\n",
        "        print(f\"After adding the seats in final\",i, seating, count)\n",
        "    \n",
        "\n",
        "\n",
        "seating\n",
        "   \n"
      ]
    },
    {
      "cell_type": "code",
      "execution_count": null,
      "metadata": {
        "id": "uf8lr3jaTS_i"
      },
      "outputs": [],
      "source": [
        "def binary_search(arr: list, search_val: str) -> int:\n",
        "    lb=0\n",
        "    upb = len(arr)-1\n",
        "\n",
        "    while lb <= upb:\n",
        "        mid = (lb+upb)//2\n",
        "        if search_val == arr[mid]:\n",
        "            return mid\n",
        "        elif search_val>mid:\n",
        "            lb= mid+1\n",
        "        else:\n",
        "            upb = mid-1\n",
        "    return -1\n"
      ]
    },
    {
      "cell_type": "code",
      "execution_count": null,
      "metadata": {
        "id": "3lgBYN2dgqQL"
      },
      "outputs": [],
      "source": [
        "def bigotest(arr):\n",
        "    # check if 5 is in a the given list\n",
        "    return sorted(arr)\n"
      ]
    },
    {
      "cell_type": "code",
      "execution_count": null,
      "metadata": {
        "colab": {
          "base_uri": "https://localhost:8080/"
        },
        "id": "ylKdzWDzgMDp",
        "outputId": "13394a92-a7d5-4118-865e-efbc6dd20db0"
      },
      "outputs": [
        {
          "name": "stdout",
          "output_type": "stream",
          "text": [
            "818 ns ± 5.62 ns per loop (mean ± std. dev. of 7 runs, 1000000 loops each)\n"
          ]
        }
      ],
      "source": [
        "%%timeit\n",
        "binary_search([3,4,6,8,20,22,51],20)"
      ]
    },
    {
      "cell_type": "markdown",
      "metadata": {
        "id": "aNfJoLv4UK_p"
      },
      "source": [
        "Needle in a haystack/Finding a substring in a string"
      ]
    },
    {
      "cell_type": "code",
      "execution_count": null,
      "metadata": {
        "id": "tjEWyyGQUJW_"
      },
      "outputs": [],
      "source": [
        "def find_needle(needle: str, haystack: str) -> bool:\n",
        "    ni,hi = 0,0\n",
        "\n",
        "    while hi < len(haystack):\n",
        "        if needle[ni] == haystack[hi]:\n",
        "            fnd = True\n",
        "            while ni < len(needle):\n",
        "                if needle[ni] != haystack[ni + hi]:\n",
        "                    fnd = False\n",
        "                    break\n",
        "                ni += 1\n",
        "            return True if fnd else False\n",
        "            ni = 0\n",
        "        hi += 1\n",
        "    return False"
      ]
    },
    {
      "cell_type": "code",
      "execution_count": null,
      "metadata": {
        "id": "bahG5W4XUIpA"
      },
      "outputs": [],
      "source": []
    },
    {
      "cell_type": "code",
      "execution_count": null,
      "metadata": {
        "colab": {
          "base_uri": "https://localhost:8080/"
        },
        "id": "B5ddVrYnXnrW",
        "outputId": "3699f3ee-d6c9-4341-8f67-c710ab74cabc"
      },
      "outputs": [
        {
          "data": {
            "text/plain": [
              "True"
            ]
          },
          "execution_count": 16,
          "metadata": {},
          "output_type": "execute_result"
        }
      ],
      "source": [
        "find_needle('fhi', 'abcdefhikghifhi')"
      ]
    },
    {
      "cell_type": "code",
      "execution_count": null,
      "metadata": {
        "id": "t-h0t72SHKj5"
      },
      "outputs": [],
      "source": [
        "import cProfile"
      ]
    },
    {
      "cell_type": "code",
      "execution_count": null,
      "metadata": {
        "colab": {
          "base_uri": "https://localhost:8080/"
        },
        "id": "FHWAcOAOHRO5",
        "outputId": "d41efd59-449b-4ab0-f3c6-e3c661b87a6a"
      },
      "outputs": [
        {
          "name": "stdout",
          "output_type": "stream",
          "text": [
            "         14 function calls in 0.000 seconds\n",
            "\n",
            "   Ordered by: standard name\n",
            "\n",
            "   ncalls  tottime  percall  cumtime  percall filename:lineno(function)\n",
            "        1    0.000    0.000    0.000    0.000 <ipython-input-3-4dd4d58f3c33>:1(find_needle)\n",
            "        1    0.000    0.000    0.000    0.000 <string>:1(<module>)\n",
            "        1    0.000    0.000    0.000    0.000 {built-in method builtins.exec}\n",
            "       10    0.000    0.000    0.000    0.000 {built-in method builtins.len}\n",
            "        1    0.000    0.000    0.000    0.000 {method 'disable' of '_lsprof.Profiler' objects}\n",
            "\n",
            "\n"
          ]
        }
      ],
      "source": [
        "cProfile.run(\"find_needle('fhi', 'abcdefhi')\")"
      ]
    },
    {
      "cell_type": "code",
      "execution_count": null,
      "metadata": {
        "colab": {
          "base_uri": "https://localhost:8080/"
        },
        "id": "t32AdA_4IOmO",
        "outputId": "9b330c5a-6447-44b6-dfb3-8ab597bf056f"
      },
      "outputs": [
        {
          "name": "stdout",
          "output_type": "stream",
          "text": [
            "Looking in indexes: https://pypi.org/simple, https://us-python.pkg.dev/colab-wheels/public/simple/\n",
            "Collecting big-o-calculator\n",
            "  Downloading big_O_calculator-0.0.9.8.4-py3-none-any.whl (21 kB)\n",
            "Installing collected packages: big-o-calculator\n",
            "Successfully installed big-o-calculator-0.0.9.8.4\n"
          ]
        }
      ],
      "source": [
        "!pip install big-o-calculator"
      ]
    },
    {
      "cell_type": "markdown",
      "metadata": {
        "id": "SJAPJ-xk-nzu"
      },
      "source": [
        "NOTE: Big-o-calculator is only for sorting algorithms and takes just one input of the array."
      ]
    },
    {
      "cell_type": "code",
      "execution_count": null,
      "metadata": {
        "colab": {
          "base_uri": "https://localhost:8080/",
          "height": 71
        },
        "id": "1A0HQxvdIVZ4",
        "outputId": "7d9f01c4-3352-442f-eee9-4e968ea864c7"
      },
      "outputs": [
        {
          "name": "stdout",
          "output_type": "stream",
          "text": [
            "Running bigotest(random array)...\n",
            "Completed bigotest(random array): O(nlog(n))\n"
          ]
        },
        {
          "data": {
            "application/vnd.google.colaboratory.intrinsic+json": {
              "type": "string"
            },
            "text/plain": [
              "'O(nlog(n))'"
            ]
          },
          "execution_count": 22,
          "metadata": {},
          "output_type": "execute_result"
        }
      ],
      "source": [
        "from bigO import BigO, algorithm\n",
        "lib = BigO()\n",
        "lib.test(bigotest, 'random')\n"
      ]
    },
    {
      "cell_type": "code",
      "execution_count": null,
      "metadata": {
        "id": "jgguHBZpLY6l"
      },
      "outputs": [],
      "source": [
        "x = ['a','b','c','d']\n",
        "y = []\n",
        "for i in range(len(x)):\n",
        "    for j in range(len(x)):\n",
        "        if i!= j:\n",
        "            y.append(x[i]+x[j])"
      ]
    },
    {
      "cell_type": "code",
      "execution_count": null,
      "metadata": {
        "colab": {
          "base_uri": "https://localhost:8080/"
        },
        "id": "p9KuL2Xa_aQH",
        "outputId": "af4b3163-65d4-4e7d-a44f-f62904348b92"
      },
      "outputs": [
        {
          "data": {
            "text/plain": [
              "['ab', 'ac', 'ad', 'ba', 'bc', 'bd', 'ca', 'cb', 'cd', 'da', 'db', 'dc']"
            ]
          },
          "execution_count": 6,
          "metadata": {},
          "output_type": "execute_result"
        }
      ],
      "source": [
        "y"
      ]
    },
    {
      "cell_type": "code",
      "execution_count": null,
      "metadata": {
        "colab": {
          "base_uri": "https://localhost:8080/"
        },
        "id": "v_i-RLVtCvx-",
        "outputId": "2f60461a-d9cf-4881-a0ce-d7b521ea2ed8"
      },
      "outputs": [
        {
          "data": {
            "text/plain": [
              "['ab', 'ac']"
            ]
          },
          "execution_count": 12,
          "metadata": {},
          "output_type": "execute_result"
        }
      ],
      "source": [
        "y[:2]"
      ]
    },
    {
      "cell_type": "code",
      "execution_count": null,
      "metadata": {
        "id": "elhiZU6k_zAr"
      },
      "outputs": [],
      "source": [
        "def palindrome_checker(inputString: str) -> bool:\n",
        "    length = len(inputString)\n",
        "    if length%2 !=0:\n",
        "        front = inputString[:(length//2)+1]\n",
        "        back = inputString[(length//2):]\n",
        "        if front == back[::-1]:\n",
        "            return True\n",
        "        return False\n",
        "    else:\n",
        "        front = inputString[:(length//2)]\n",
        "        back = inputString[(length//2):]\n",
        "        if front == back[::-1]:\n",
        "            return True\n",
        "    return False"
      ]
    },
    {
      "cell_type": "code",
      "execution_count": null,
      "metadata": {
        "colab": {
          "base_uri": "https://localhost:8080/"
        },
        "id": "T5yT1jZJB25B",
        "outputId": "b0b0b98e-df14-4f71-9865-9f94faa6ca76"
      },
      "outputs": [
        {
          "name": "stdout",
          "output_type": "stream",
          "text": [
            "568 ns ± 15.1 ns per loop (mean ± std. dev. of 7 runs, 1000000 loops each)\n"
          ]
        }
      ],
      "source": [
        "%%timeit \n",
        "palindrome_checker(\"palindromeemordnilap\")"
      ]
    },
    {
      "cell_type": "code",
      "execution_count": null,
      "metadata": {
        "id": "1B96TvPmFg5P"
      },
      "outputs": [],
      "source": [
        "def palindrome_checker2(inputString):\n",
        "    left = 0\n",
        "    right = len(inputString) - 1\n",
        "    while(left < len(inputString)/2):\n",
        "        if inputString[left] != inputString[right]:\n",
        "            return False\n",
        "        left += 1\n",
        "        right -= 1\n",
        "    return True"
      ]
    },
    {
      "cell_type": "code",
      "execution_count": null,
      "metadata": {
        "colab": {
          "base_uri": "https://localhost:8080/"
        },
        "id": "rnLBi3vHGai2",
        "outputId": "1e2bdc91-bcee-4f2c-b00b-45b3fb91eec1"
      },
      "outputs": [
        {
          "name": "stdout",
          "output_type": "stream",
          "text": [
            "2.81 µs ± 56.8 ns per loop (mean ± std. dev. of 7 runs, 100000 loops each)\n"
          ]
        }
      ],
      "source": [
        "\n",
        "%%timeit\n",
        "palindrome_checker2(\"palindromeemordnilap\")"
      ]
    },
    {
      "cell_type": "markdown",
      "metadata": {
        "id": "NRSCdJlwJLEl"
      },
      "source": [
        "Function that returns an intersection of two arrays."
      ]
    },
    {
      "cell_type": "code",
      "execution_count": null,
      "metadata": {
        "id": "kK1d2GT9G4lt"
      },
      "outputs": [],
      "source": [
        "\n",
        "def intersection_of_arrays(arr1: list, arr2: list) -> list:\n",
        "    a1 = len(arr1)\n",
        "    a2 = len(arr2)\n",
        "    smaller = a1 if a1 <= a2 else a2\n",
        "    z = []\n",
        "    for i in range(smaller):\n",
        "        if arr1[i] in arr2:\n",
        "            z.append(arr1[i])\n",
        "    return z\n"
      ]
    },
    {
      "cell_type": "code",
      "execution_count": null,
      "metadata": {
        "colab": {
          "base_uri": "https://localhost:8080/"
        },
        "id": "o7iV2XzpPvit",
        "outputId": "3e503a95-d903-4f44-a7fc-2c4e55f4f830"
      },
      "outputs": [
        {
          "data": {
            "text/plain": [
              "['b', 'd', 'e']"
            ]
          },
          "execution_count": 3,
          "metadata": {},
          "output_type": "execute_result"
        }
      ],
      "source": [
        "#%%timeit\n",
        "x = ['a','b','c','d','e']\n",
        "y = ['n','b','j','l','i','d','m','e']\n",
        "intersection_of_arrays(x,y)"
      ]
    },
    {
      "cell_type": "code",
      "execution_count": null,
      "metadata": {
        "id": "NUKj_OZVSD0F"
      },
      "outputs": [],
      "source": [
        "#dictionary based implementation\n",
        "\n",
        "def intersection_of_arrays2(arr1: list, arr2: list) -> list:\n",
        "    z = {i: 1 for i in arr1}\n",
        "    keys = []\n",
        "    for i in arr2:\n",
        "        if i in z.keys():\n",
        "            z[i] +=1\n",
        "    for k,v in z.items():\n",
        "        if v >= 2:\n",
        "            keys.append(k)\n",
        "    return keys"
      ]
    },
    {
      "cell_type": "code",
      "execution_count": null,
      "metadata": {
        "colab": {
          "base_uri": "https://localhost:8080/"
        },
        "id": "ox6356jxSrDf",
        "outputId": "874c8e18-3cb5-43aa-d6e1-f891838c7833"
      },
      "outputs": [
        {
          "name": "stdout",
          "output_type": "stream",
          "text": [
            "2.5 µs ± 55.9 ns per loop (mean ± std. dev. of 7 runs, 100000 loops each)\n"
          ]
        }
      ],
      "source": [
        "%%timeit\n",
        "x = ['a','b','c','d','e']\n",
        "y = ['n','b','j','l','i','d','m','e']\n",
        "intersection_of_arrays2(x,y)"
      ]
    },
    {
      "cell_type": "code",
      "execution_count": null,
      "metadata": {
        "id": "obr2xqvYV0Ny"
      },
      "outputs": [],
      "source": [
        "#Reverse a string using stack\n",
        "class Stack():\n",
        "\n",
        "    def __init__(self, arr: list):\n",
        "        self.stack = [i for i in arr]\n",
        "\n",
        "    def push(self, item):\n",
        "        self.stack.append(item)\n",
        "\n",
        "    def pop(self) -> str:\n",
        "        popped_item = self.stack[-1]\n",
        "        self.stack.pop(-1)\n",
        "        return popped_item\n",
        "    \n",
        "    def items(self):\n",
        "        return self.stack\n",
        "\n",
        "\n"
      ]
    },
    {
      "cell_type": "code",
      "execution_count": null,
      "metadata": {
        "id": "j2zO6Z9OY9MX"
      },
      "outputs": [],
      "source": [
        "def reverse_string_using_stack(arr: list) -> list:\n",
        "    s = Stack(arr)\n",
        "    ns = []\n",
        "    for i in range(len(arr)):\n",
        "        ns.append(s.pop())\n",
        "    return ''.join(ns)"
      ]
    },
    {
      "cell_type": "code",
      "execution_count": null,
      "metadata": {
        "colab": {
          "base_uri": "https://localhost:8080/",
          "height": 35
        },
        "id": "8CfY-9DcagcK",
        "outputId": "197d54ea-8d0f-4636-9d1a-03ad2c6b00ed"
      },
      "outputs": [
        {
          "data": {
            "application/vnd.google.colaboratory.intrinsic+json": {
              "type": "string"
            },
            "text/plain": [
              "'edcba'"
            ]
          },
          "execution_count": 73,
          "metadata": {},
          "output_type": "execute_result"
        }
      ],
      "source": [
        "reverse_string_using_stack('abcde')"
      ]
    },
    {
      "cell_type": "markdown",
      "metadata": {
        "id": "0YOHFfyCa1eZ"
      },
      "source": [
        "Recursion - When used correctly a powerful tool else a curse\n",
        "\n",
        "In Recursion, the computer uses a Stack called CallStack to capture the calls as it keeps calling a method with a different parameter while still in execution of previous calls. As it's a LIFO, the function which was called last will be completed first."
      ]
    },
    {
      "cell_type": "code",
      "execution_count": null,
      "metadata": {
        "id": "V1V-SE-RbOS7"
      },
      "outputs": [],
      "source": [
        "from logging import Logger\n"
      ]
    },
    {
      "cell_type": "code",
      "execution_count": null,
      "metadata": {
        "id": "Q4a4UiZKazha"
      },
      "outputs": [],
      "source": [
        "def recur(num):\n",
        "    if num == 0:\n",
        "        return\n",
        "    logger = Logger(name=\"recursion\")\n",
        "    logger.warning(f\"Countdown at {num}\")\n",
        "    return recur(num-1)\n",
        "\n"
      ]
    },
    {
      "cell_type": "code",
      "execution_count": null,
      "metadata": {
        "colab": {
          "base_uri": "https://localhost:8080/"
        },
        "id": "4HEr_vS-bnsK",
        "outputId": "5afb569e-4879-4571-9de8-7b2143aed41c"
      },
      "outputs": [
        {
          "name": "stderr",
          "output_type": "stream",
          "text": [
            "Countdown at 10\n",
            "Countdown at 9\n",
            "Countdown at 8\n",
            "Countdown at 7\n",
            "Countdown at 6\n",
            "Countdown at 5\n",
            "Countdown at 4\n",
            "Countdown at 3\n",
            "Countdown at 2\n",
            "Countdown at 1\n"
          ]
        }
      ],
      "source": [
        "recur(10)"
      ]
    },
    {
      "cell_type": "code",
      "execution_count": null,
      "metadata": {
        "id": "7UGP32tLdHL1"
      },
      "outputs": [],
      "source": [
        "def factorial(num: int) -> int:\n",
        "    if num == 1:\n",
        "        return 1\n",
        "    else:\n",
        "        return factorial(num - 1) * num\n"
      ]
    },
    {
      "cell_type": "code",
      "execution_count": null,
      "metadata": {
        "colab": {
          "base_uri": "https://localhost:8080/"
        },
        "id": "gnt7OkafdjhD",
        "outputId": "1edccfd3-b34c-4176-b444-1c32da791a29"
      },
      "outputs": [
        {
          "data": {
            "text/plain": [
              "120"
            ]
          },
          "execution_count": 26,
          "metadata": {},
          "output_type": "execute_result"
        }
      ],
      "source": [
        "factorial(5)"
      ]
    },
    {
      "cell_type": "markdown",
      "metadata": {
        "id": "4umIo8X3TYvI"
      },
      "source": [
        "Recursive Traversing of a nested array"
      ]
    },
    {
      "cell_type": "code",
      "execution_count": null,
      "metadata": {
        "id": "rCJ5bd2VTejW"
      },
      "outputs": [],
      "source": [
        "def flatten_array(arr: list) -> list:   \n",
        "    for val in arr:       \n",
        "        if (isinstance(val, list)):\n",
        "            flatten_array(val)\n",
        "        else:\n",
        "            print(val)"
      ]
    },
    {
      "cell_type": "code",
      "execution_count": null,
      "metadata": {
        "colab": {
          "base_uri": "https://localhost:8080/"
        },
        "id": "SVAJL0TKWUNl",
        "outputId": "d73e758b-46fd-4315-f5e1-72bc97b88771"
      },
      "outputs": [
        {
          "name": "stdout",
          "output_type": "stream",
          "text": [
            "1\n",
            "2\n",
            "3\n",
            "1\n",
            "4\n",
            "5\n",
            "6\n",
            "7\n",
            "8\n",
            "9\n",
            "10\n",
            "11\n",
            "12\n",
            "13\n",
            "14\n",
            "15\n",
            "16\n"
          ]
        }
      ],
      "source": [
        "flatten_array([1,2,3,[1,[4,5],6],7,8,[9,10,[11,[12,13],14],15],16])"
      ]
    },
    {
      "cell_type": "markdown",
      "metadata": {
        "id": "_hcxgz2Gzivj"
      },
      "source": [
        "Doubling the array in place using recursion"
      ]
    },
    {
      "cell_type": "code",
      "execution_count": null,
      "metadata": {
        "id": "n_BHpHpczm38"
      },
      "outputs": [],
      "source": [
        "def double(arr: list, index: int=0):\n",
        "    if index >= len(arr):\n",
        "        return\n",
        "    arr[index] **= 2\n",
        "    double(arr,index+1)\n",
        "\n"
      ]
    },
    {
      "cell_type": "code",
      "execution_count": null,
      "metadata": {
        "colab": {
          "base_uri": "https://localhost:8080/"
        },
        "id": "viG-5UPd0ITN",
        "outputId": "d25eb0af-cbe1-4937-f2bb-0bf749806b88"
      },
      "outputs": [
        {
          "data": {
            "text/plain": [
              "{'arr': list, 'index': int, 'return': list}"
            ]
          },
          "execution_count": 43,
          "metadata": {},
          "output_type": "execute_result"
        }
      ],
      "source": [
        "double.__annotations__"
      ]
    },
    {
      "cell_type": "code",
      "execution_count": null,
      "metadata": {
        "colab": {
          "base_uri": "https://localhost:8080/"
        },
        "id": "6n13BTRr0Zc1",
        "outputId": "1f8293f0-fbc4-43a4-d386-067facf89f76"
      },
      "outputs": [
        {
          "name": "stdout",
          "output_type": "stream",
          "text": [
            "[1, 4, 9, 16, 25]\n"
          ]
        }
      ],
      "source": [
        "arr = [1,2,3,4,5]\n",
        "double(arr)\n",
        "print(arr)"
      ]
    },
    {
      "cell_type": "code",
      "execution_count": null,
      "metadata": {
        "id": "RrzuXLDA3ghX"
      },
      "outputs": [],
      "source": [
        "# Array Sum\n",
        "\n",
        "def summation(arr: list) -> int:\n",
        "    sum =0\n",
        "    for i,v in enumerate(arr):\n",
        "        sum = sum + v\n",
        "        summation(arr[i+1:])\n",
        "    return sum"
      ]
    },
    {
      "cell_type": "code",
      "execution_count": null,
      "metadata": {
        "colab": {
          "base_uri": "https://localhost:8080/"
        },
        "id": "_1AuLYue4K9M",
        "outputId": "76db5245-4551-4cd0-a883-7527e2daed2d"
      },
      "outputs": [
        {
          "data": {
            "text/plain": [
              "15"
            ]
          },
          "execution_count": 12,
          "metadata": {},
          "output_type": "execute_result"
        }
      ],
      "source": [
        "\n",
        "summation([1,2,3,4,5])\n"
      ]
    },
    {
      "cell_type": "code",
      "execution_count": null,
      "metadata": {
        "colab": {
          "base_uri": "https://localhost:8080/"
        },
        "id": "4G1uJwnmbsbD",
        "outputId": "35714785-4057-4069-e763-b20015b648a9"
      },
      "outputs": [
        {
          "data": {
            "text/plain": [
              "15"
            ]
          },
          "execution_count": 4,
          "metadata": {},
          "output_type": "execute_result"
        }
      ],
      "source": [
        "sum([1,2,3,4,5])"
      ]
    },
    {
      "cell_type": "markdown",
      "metadata": {
        "id": "FCIARnGHxbvI"
      },
      "source": [
        "Three No Sum"
      ]
    },
    {
      "cell_type": "code",
      "execution_count": null,
      "metadata": {
        "id": "9cbAHw1kSPYK"
      },
      "outputs": [],
      "source": [
        "def threeNoSum(arr: list, target: int) -> list:\n",
        "    result = []\n",
        "    from itertools import combinations\n",
        "    combs = combinations(arr, 3)\n",
        "    for i in combs:\n",
        "        if sum(i) == target:\n",
        "            result.append(sorted(i))\n",
        "    return sorted(result)\n"
      ]
    },
    {
      "cell_type": "code",
      "execution_count": null,
      "metadata": {
        "colab": {
          "base_uri": "https://localhost:8080/"
        },
        "id": "0KJPPTk57Kjr",
        "outputId": "67a7b0ce-63e2-4a38-8946-e00b23f6771e"
      },
      "outputs": [
        {
          "name": "stdout",
          "output_type": "stream",
          "text": [
            "<itertools.combinations object at 0x7fea5ff1d8b0>\n"
          ]
        },
        {
          "data": {
            "text/plain": [
              "[[-8, 3, 5], [-6, 1, 5], [-8, 2, 6]]"
            ]
          },
          "execution_count": 11,
          "metadata": {},
          "output_type": "execute_result"
        }
      ],
      "source": [
        "threeNoSum([12,3,1,2,-6,5,-8,6], 0)"
      ]
    },
    {
      "cell_type": "code",
      "execution_count": null,
      "metadata": {
        "id": "vqcU2Djwzu7s"
      },
      "outputs": [],
      "source": [
        "def smallestDistance(array1: list, array2: list) -> list:\n",
        "    from itertools import permutations\n",
        "    pers = permutations(array1,len(array2))\n",
        "    # combs = combinations((array1 + array2), 2)\n",
        "    combs =[]\n",
        "    for i in pers:\n",
        "        zipped = zip(i, array2)\n",
        "        combs.append(list(zipped))\n",
        "    print(combs[0],combs[1], combs[2])\n",
        "    hash = sorted([abs(i[0]-i[1]) for i in combs])\n",
        "    return hash[0]"
      ]
    },
    {
      "cell_type": "code",
      "execution_count": null,
      "metadata": {
        "colab": {
          "base_uri": "https://localhost:8080/",
          "height": 318
        },
        "id": "zj_wEe5-02AT",
        "outputId": "8a8ca421-7216-43fc-cdfc-f4b4097d03e5"
      },
      "outputs": [
        {
          "name": "stdout",
          "output_type": "stream",
          "text": [
            "[(-1, 26), (5, 134), (10, 135), (20, 15), (28, 17)] [(-1, 26), (5, 134), (10, 135), (20, 15), (3, 17)] [(-1, 26), (5, 134), (10, 135), (28, 15), (20, 17)]\n"
          ]
        },
        {
          "ename": "TypeError",
          "evalue": "ignored",
          "output_type": "error",
          "traceback": [
            "\u001b[0;31m---------------------------------------------------------------------------\u001b[0m",
            "\u001b[0;31mTypeError\u001b[0m                                 Traceback (most recent call last)",
            "\u001b[0;32m<ipython-input-18-00a20c6f9ff1>\u001b[0m in \u001b[0;36m<module>\u001b[0;34m\u001b[0m\n\u001b[0;32m----> 1\u001b[0;31m \u001b[0msmallestDistance\u001b[0m\u001b[0;34m(\u001b[0m\u001b[0;34m[\u001b[0m\u001b[0;34m-\u001b[0m\u001b[0;36m1\u001b[0m\u001b[0;34m,\u001b[0m\u001b[0;36m5\u001b[0m\u001b[0;34m,\u001b[0m\u001b[0;36m10\u001b[0m\u001b[0;34m,\u001b[0m\u001b[0;36m20\u001b[0m\u001b[0;34m,\u001b[0m\u001b[0;36m28\u001b[0m\u001b[0;34m,\u001b[0m\u001b[0;36m3\u001b[0m\u001b[0;34m]\u001b[0m\u001b[0;34m,\u001b[0m \u001b[0;34m[\u001b[0m\u001b[0;36m26\u001b[0m\u001b[0;34m,\u001b[0m\u001b[0;36m134\u001b[0m\u001b[0;34m,\u001b[0m \u001b[0;36m135\u001b[0m\u001b[0;34m,\u001b[0m \u001b[0;36m15\u001b[0m\u001b[0;34m,\u001b[0m \u001b[0;36m17\u001b[0m\u001b[0;34m]\u001b[0m\u001b[0;34m)\u001b[0m\u001b[0;34m\u001b[0m\u001b[0;34m\u001b[0m\u001b[0m\n\u001b[0m",
            "\u001b[0;32m<ipython-input-17-29f29cd3f40b>\u001b[0m in \u001b[0;36msmallestDistance\u001b[0;34m(array1, array2)\u001b[0m\n\u001b[1;32m      8\u001b[0m         \u001b[0mcombs\u001b[0m\u001b[0;34m.\u001b[0m\u001b[0mappend\u001b[0m\u001b[0;34m(\u001b[0m\u001b[0mlist\u001b[0m\u001b[0;34m(\u001b[0m\u001b[0mzipped\u001b[0m\u001b[0;34m)\u001b[0m\u001b[0;34m)\u001b[0m\u001b[0;34m\u001b[0m\u001b[0;34m\u001b[0m\u001b[0m\n\u001b[1;32m      9\u001b[0m     \u001b[0mprint\u001b[0m\u001b[0;34m(\u001b[0m\u001b[0mcombs\u001b[0m\u001b[0;34m[\u001b[0m\u001b[0;36m0\u001b[0m\u001b[0;34m]\u001b[0m\u001b[0;34m,\u001b[0m\u001b[0mcombs\u001b[0m\u001b[0;34m[\u001b[0m\u001b[0;36m1\u001b[0m\u001b[0;34m]\u001b[0m\u001b[0;34m,\u001b[0m \u001b[0mcombs\u001b[0m\u001b[0;34m[\u001b[0m\u001b[0;36m2\u001b[0m\u001b[0;34m]\u001b[0m\u001b[0;34m)\u001b[0m\u001b[0;34m\u001b[0m\u001b[0;34m\u001b[0m\u001b[0m\n\u001b[0;32m---> 10\u001b[0;31m     \u001b[0mhash\u001b[0m \u001b[0;34m=\u001b[0m \u001b[0msorted\u001b[0m\u001b[0;34m(\u001b[0m\u001b[0;34m[\u001b[0m\u001b[0mabs\u001b[0m\u001b[0;34m(\u001b[0m\u001b[0mi\u001b[0m\u001b[0;34m[\u001b[0m\u001b[0;36m0\u001b[0m\u001b[0;34m]\u001b[0m\u001b[0;34m-\u001b[0m\u001b[0mi\u001b[0m\u001b[0;34m[\u001b[0m\u001b[0;36m1\u001b[0m\u001b[0;34m]\u001b[0m\u001b[0;34m)\u001b[0m \u001b[0;32mfor\u001b[0m \u001b[0mi\u001b[0m \u001b[0;32min\u001b[0m \u001b[0mcombs\u001b[0m\u001b[0;34m]\u001b[0m\u001b[0;34m)\u001b[0m\u001b[0;34m\u001b[0m\u001b[0;34m\u001b[0m\u001b[0m\n\u001b[0m\u001b[1;32m     11\u001b[0m     \u001b[0;32mreturn\u001b[0m \u001b[0mhash\u001b[0m\u001b[0;34m[\u001b[0m\u001b[0;36m0\u001b[0m\u001b[0;34m]\u001b[0m\u001b[0;34m\u001b[0m\u001b[0;34m\u001b[0m\u001b[0m\n",
            "\u001b[0;32m<ipython-input-17-29f29cd3f40b>\u001b[0m in \u001b[0;36m<listcomp>\u001b[0;34m(.0)\u001b[0m\n\u001b[1;32m      8\u001b[0m         \u001b[0mcombs\u001b[0m\u001b[0;34m.\u001b[0m\u001b[0mappend\u001b[0m\u001b[0;34m(\u001b[0m\u001b[0mlist\u001b[0m\u001b[0;34m(\u001b[0m\u001b[0mzipped\u001b[0m\u001b[0;34m)\u001b[0m\u001b[0;34m)\u001b[0m\u001b[0;34m\u001b[0m\u001b[0;34m\u001b[0m\u001b[0m\n\u001b[1;32m      9\u001b[0m     \u001b[0mprint\u001b[0m\u001b[0;34m(\u001b[0m\u001b[0mcombs\u001b[0m\u001b[0;34m[\u001b[0m\u001b[0;36m0\u001b[0m\u001b[0;34m]\u001b[0m\u001b[0;34m,\u001b[0m\u001b[0mcombs\u001b[0m\u001b[0;34m[\u001b[0m\u001b[0;36m1\u001b[0m\u001b[0;34m]\u001b[0m\u001b[0;34m,\u001b[0m \u001b[0mcombs\u001b[0m\u001b[0;34m[\u001b[0m\u001b[0;36m2\u001b[0m\u001b[0;34m]\u001b[0m\u001b[0;34m)\u001b[0m\u001b[0;34m\u001b[0m\u001b[0;34m\u001b[0m\u001b[0m\n\u001b[0;32m---> 10\u001b[0;31m     \u001b[0mhash\u001b[0m \u001b[0;34m=\u001b[0m \u001b[0msorted\u001b[0m\u001b[0;34m(\u001b[0m\u001b[0;34m[\u001b[0m\u001b[0mabs\u001b[0m\u001b[0;34m(\u001b[0m\u001b[0mi\u001b[0m\u001b[0;34m[\u001b[0m\u001b[0;36m0\u001b[0m\u001b[0;34m]\u001b[0m\u001b[0;34m-\u001b[0m\u001b[0mi\u001b[0m\u001b[0;34m[\u001b[0m\u001b[0;36m1\u001b[0m\u001b[0;34m]\u001b[0m\u001b[0;34m)\u001b[0m \u001b[0;32mfor\u001b[0m \u001b[0mi\u001b[0m \u001b[0;32min\u001b[0m \u001b[0mcombs\u001b[0m\u001b[0;34m]\u001b[0m\u001b[0;34m)\u001b[0m\u001b[0;34m\u001b[0m\u001b[0;34m\u001b[0m\u001b[0m\n\u001b[0m\u001b[1;32m     11\u001b[0m     \u001b[0;32mreturn\u001b[0m \u001b[0mhash\u001b[0m\u001b[0;34m[\u001b[0m\u001b[0;36m0\u001b[0m\u001b[0;34m]\u001b[0m\u001b[0;34m\u001b[0m\u001b[0;34m\u001b[0m\u001b[0m\n",
            "\u001b[0;31mTypeError\u001b[0m: unsupported operand type(s) for -: 'tuple' and 'tuple'"
          ]
        }
      ],
      "source": [
        "smallestDistance([-1,5,10,20,28,3], [26,134, 135, 15, 17])"
      ]
    },
    {
      "cell_type": "code",
      "execution_count": null,
      "metadata": {
        "id": "JlNmglQyybrZ"
      },
      "outputs": [],
      "source": [
        "def smallestDist(arr1: list, arr2: list) -> list:\n",
        "    "
      ]
    },
    {
      "cell_type": "code",
      "execution_count": null,
      "metadata": {
        "colab": {
          "base_uri": "https://localhost:8080/"
        },
        "id": "FEUarKUVH7OE",
        "outputId": "4535ffaf-606c-4d93-ce18-a187b9895efa"
      },
      "outputs": [
        {
          "data": {
            "text/plain": [
              "array([0.  , 0.25, 0.5 , 0.75, 1.  ])"
            ]
          },
          "execution_count": 1,
          "metadata": {},
          "output_type": "execute_result"
        }
      ],
      "source": [
        "import numpy as np\n",
        "np.linspace(0,1,5)"
      ]
    },
    {
      "cell_type": "code",
      "execution_count": null,
      "metadata": {
        "colab": {
          "base_uri": "https://localhost:8080/"
        },
        "id": "PkJw1gdaiCcD",
        "outputId": "656cd86f-12f1-4692-a9f2-60669b3add12"
      },
      "outputs": [
        {
          "name": "stdout",
          "output_type": "stream",
          "text": [
            "[ 2  7  4  7  3  8  5  3 10  6  6  7  5  6  9  2  6  2  5  5  7  6  5  1\n",
            "  8  3  6  5  2  4  3  3  3  5  9  4  8  4  4  5  3 10  4  7  3  3  7  1\n",
            "  3  5]\n"
          ]
        }
      ],
      "source": [
        "np.random.seed(121120)\n",
        "print(np.random.poisson(5,50))"
      ]
    },
    {
      "cell_type": "code",
      "execution_count": null,
      "metadata": {
        "id": "bHtEcL1EkN82"
      },
      "outputs": [],
      "source": [
        "x=np.array([13,28,56,31,63])"
      ]
    },
    {
      "cell_type": "code",
      "execution_count": null,
      "metadata": {
        "colab": {
          "base_uri": "https://localhost:8080/"
        },
        "id": "TBIpQF2noL0M",
        "outputId": "4ee89bb4-9504-4c9a-a188-53bc7b07fec0"
      },
      "outputs": [
        {
          "data": {
            "text/plain": [
              "array([56, 63, 56, 13, 56])"
            ]
          },
          "execution_count": 21,
          "metadata": {},
          "output_type": "execute_result"
        }
      ],
      "source": [
        "np.random.choice(x,5)"
      ]
    },
    {
      "cell_type": "code",
      "execution_count": null,
      "metadata": {
        "id": "-JTnbwqYpaHL"
      },
      "outputs": [],
      "source": [
        "ndom.sample"
      ]
    },
    {
      "cell_type": "code",
      "execution_count": null,
      "metadata": {
        "colab": {
          "base_uri": "https://localhost:8080/"
        },
        "id": "9BKPWtqDpTEU",
        "outputId": "ac5922a7-8226-45db-dc08-6eaaae49ef90"
      },
      "outputs": [
        {
          "data": {
            "text/plain": [
              "array([0.76813704, 0.44913415, 0.06179846, ..., 0.45937194, 0.49867696,\n",
              "       0.14754212])"
            ]
          },
          "execution_count": 23,
          "metadata": {},
          "output_type": "execute_result"
        }
      ],
      "source": [
        "np.random.sample(10000)"
      ]
    },
    {
      "cell_type": "code",
      "execution_count": null,
      "metadata": {
        "colab": {
          "base_uri": "https://localhost:8080/"
        },
        "id": "2GKJxJcDupRC",
        "outputId": "77f74fa4-d6be-4e14-9b35-257d219edb1e"
      },
      "outputs": [
        {
          "data": {
            "text/plain": [
              "{'One': 1, 'Two': 2, 'Three': 3}"
            ]
          },
          "execution_count": 1,
          "metadata": {},
          "output_type": "execute_result"
        }
      ],
      "source": [
        "x= ['One','Two', 'Three']\n",
        "y= [1,2,3]\n",
        "dict(zip(x,y))"
      ]
    },
    {
      "cell_type": "code",
      "execution_count": null,
      "metadata": {
        "id": "qIWGi6nxvKh1"
      },
      "outputs": [],
      "source": [
        "dict1 = {'Ten': 10, 'Twenty': 20, 'Thirty': 30}\n",
        "dict2 = {'Thirty': 30, 'Fourty': 40, 'Fifty': 50}\n",
        "\n",
        "dict1.update(dict2)"
      ]
    },
    {
      "cell_type": "code",
      "execution_count": null,
      "metadata": {
        "id": "WZ9kLD8QvlVd"
      },
      "outputs": [],
      "source": [
        "sampleDict = {\n",
        "    \"class\": {\n",
        "        \"student\": {\n",
        "            \"name\": \"Mike\",\n",
        "            \"marks\": {\n",
        "                \"physics\": 70,\n",
        "                \"history\": 80\n",
        "            }\n",
        "        }\n",
        "    }\n",
        "}\n"
      ]
    },
    {
      "cell_type": "code",
      "execution_count": null,
      "metadata": {
        "colab": {
          "base_uri": "https://localhost:8080/"
        },
        "id": "sbFpGxuRwSGP",
        "outputId": "75866439-f4de-4f1c-aa94-d3770aadc82c"
      },
      "outputs": [
        {
          "data": {
            "text/plain": [
              "80"
            ]
          },
          "execution_count": 15,
          "metadata": {},
          "output_type": "execute_result"
        }
      ],
      "source": [
        "sampleDict['class']['student']['marks']['history']"
      ]
    },
    {
      "cell_type": "code",
      "execution_count": null,
      "metadata": {
        "colab": {
          "base_uri": "https://localhost:8080/"
        },
        "id": "1TW3kX0Ow8sM",
        "outputId": "43d354da-649a-4224-c91e-0f92a701697c"
      },
      "outputs": [
        {
          "name": "stdout",
          "output_type": "stream",
          "text": [
            "None\n"
          ]
        }
      ],
      "source": [
        "print(sampleDict.get('history'))"
      ]
    },
    {
      "cell_type": "code",
      "execution_count": null,
      "metadata": {
        "colab": {
          "base_uri": "https://localhost:8080/"
        },
        "id": "7gyMj_RKx7Uu",
        "outputId": "8fa89336-3dbd-4f7f-d218-ac7fa62cdcfe"
      },
      "outputs": [
        {
          "data": {
            "text/plain": [
              "{'Kelly': {'designation': 'Developer', 'salary': 8000},\n",
              " 'Emma': {'designation': 'Developer', 'salary': 8000}}"
            ]
          },
          "execution_count": 19,
          "metadata": {},
          "output_type": "execute_result"
        }
      ],
      "source": [
        "employees = ['Kelly', 'Emma']\n",
        "defaults = {\"designation\": 'Developer', \"salary\": 8000}\n",
        "\n",
        "new = {emp:defaults for emp in employees}\n",
        "new"
      ]
    },
    {
      "cell_type": "code",
      "execution_count": null,
      "metadata": {
        "colab": {
          "base_uri": "https://localhost:8080/"
        },
        "id": "rGswbQPtybCW",
        "outputId": "b816501e-3d13-4958-863c-d05f5653d908"
      },
      "outputs": [
        {
          "data": {
            "text/plain": [
              "{'age': 25, 'city': 'New york'}"
            ]
          },
          "execution_count": 21,
          "metadata": {},
          "output_type": "execute_result"
        }
      ],
      "source": [
        "sample_dict = {\n",
        "    \"name\": \"Kelly\",\n",
        "    \"age\": 25,\n",
        "    \"salary\": 8000,\n",
        "    \"city\": \"New york\"\n",
        "}\n",
        "\n",
        "# Keys to remove\n",
        "keys = [\"name\", \"salary\"]\n",
        "\n",
        "for k in keys:\n",
        "    sample_dict.pop(k)\n",
        "sample_dict"
      ]
    },
    {
      "cell_type": "code",
      "execution_count": null,
      "metadata": {
        "colab": {
          "base_uri": "https://localhost:8080/"
        },
        "id": "F_rCziqSzE5v",
        "outputId": "16830f95-9504-45ec-ed81-d05c14ad92b0"
      },
      "outputs": [
        {
          "data": {
            "text/plain": [
              "array([20, 12, 60])"
            ]
          },
          "execution_count": 1,
          "metadata": {},
          "output_type": "execute_result"
        }
      ],
      "source": [
        "import numpy as np\n",
        "\n",
        "np.array([4, 2, 6]) * np.array([5, 6, 10])"
      ]
    },
    {
      "cell_type": "code",
      "execution_count": null,
      "metadata": {
        "colab": {
          "base_uri": "https://localhost:8080/"
        },
        "id": "TzWbT1mW-CEm",
        "outputId": "752a47c7-f5c1-4f86-f7b7-2b12b78e3c19"
      },
      "outputs": [
        {
          "data": {
            "text/plain": [
              "1"
            ]
          },
          "execution_count": 6,
          "metadata": {},
          "output_type": "execute_result"
        }
      ],
      "source": [
        "x = [15,10,2,84] + [1,4,8,7,9]\n",
        "x.count(x[0])"
      ]
    },
    {
      "cell_type": "code",
      "execution_count": null,
      "metadata": {
        "colab": {
          "base_uri": "https://localhost:8080/"
        },
        "id": "lewLzI8mSP2i",
        "outputId": "5d9ce7df-52e9-43d2-8e88-407db27aab46"
      },
      "outputs": [
        {
          "name": "stdout",
          "output_type": "stream",
          "text": [
            "{'val': 5, 'left': <__main__.T object at 0x7f88c00e98e0>, 'right': <__main__.T object at 0x7f88c00e9ac0>}\n"
          ]
        },
        {
          "data": {
            "text/plain": [
              "3"
            ]
          },
          "execution_count": 1,
          "metadata": {},
          "output_type": "execute_result"
        }
      ],
      "source": [
        "#Count the no of turns in a binary tree using depth first search\n",
        "\n",
        "class T:\n",
        "    def __init__(self, val, left=None, right=None):\n",
        "        self.val = val\n",
        "        self.left = left\n",
        "        self.right = right\n",
        "        \n",
        "def construct_tree(tree_list):\n",
        "    if tree_list is None:\n",
        "        return None\n",
        "    node = T(tree_list[0])\n",
        "    node.left = construct_tree(tree_list[1])\n",
        "    node.right = construct_tree(tree_list[2])\n",
        "    return node\n",
        "    \n",
        "tree = construct_tree((5, (3, (20, (6, None, None), None), None), (10, (1, None, None), (15, (30, None, (9, None, None)), (8, None, None)))))\n",
        "print(tree.__dict__)\n",
        "def solution(T):\n",
        "    def dfs(node, is_left):\n",
        "        nonlocal max_len\n",
        "        if not node:\n",
        "            return 0\n",
        "        left_len = dfs(node.left, False)\n",
        "        right_len = dfs(node.right, True)\n",
        "        if is_left:\n",
        "            max_len = max(max_len, left_len + 1)\n",
        "        else:\n",
        "            max_len = max(max_len, right_len + 1)\n",
        "        return max(left_len, right_len) + 1\n",
        "    \n",
        "    max_len = 0\n",
        "    dfs(T, True)\n",
        "    return max_len - 1\n",
        "    \n",
        "solution(tree)"
      ]
    },
    {
      "cell_type": "code",
      "execution_count": null,
      "metadata": {
        "id": "qbkcM6R1SOkG"
      },
      "outputs": [],
      "source": []
    },
    {
      "cell_type": "code",
      "execution_count": null,
      "metadata": {
        "id": "H6SDXHu7TYV6"
      },
      "outputs": [],
      "source": [
        "#### Height of a Binary tree using depth first search.\n",
        "def height(root):\n",
        "    if not root:\n",
        "        return -1\n",
        "    leftside = height(root.left)\n",
        "    rightside = height(root.right)\n",
        "    return max(leftside,rightside)+1"
      ]
    },
    {
      "cell_type": "code",
      "execution_count": null,
      "metadata": {
        "id": "AB1uFfyjUQ9K"
      },
      "outputs": [],
      "source": [
        "new = construct_tree((5, (3, (20, None, None), (21, None, None)), (10, (1, None, None), None)))"
      ]
    },
    {
      "cell_type": "code",
      "execution_count": null,
      "metadata": {
        "colab": {
          "base_uri": "https://localhost:8080/"
        },
        "id": "sLiqbXomT7W2",
        "outputId": "9d5addd7-b9a8-4d6f-9c90-f73ea8129a1d"
      },
      "outputs": [
        {
          "data": {
            "text/plain": [
              "2"
            ]
          },
          "execution_count": 8,
          "metadata": {},
          "output_type": "execute_result"
        }
      ],
      "source": [
        "height(new)"
      ]
    },
    {
      "cell_type": "code",
      "execution_count": null,
      "metadata": {
        "colab": {
          "base_uri": "https://localhost:8080/"
        },
        "id": "cdSssxmNVDwC",
        "outputId": "420de097-aa9c-4f86-c92f-5463650d7906"
      },
      "outputs": [
        {
          "name": "stdout",
          "output_type": "stream",
          "text": [
            "10\n"
          ]
        }
      ],
      "source": [
        "#finding inversion pairs\n",
        "\n",
        "x= [5,4,3,2,1] #[-1,6,3,4,7,4]\n",
        "\n",
        "from itertools import combinations as comb\n",
        "inv = []\n",
        "combs = comb(x,2)\n",
        "\n",
        "for c in combs:\n",
        "    if c[0] > c[1] and x.index(c[0]) < x.index(c[1]):\n",
        "        inv.append((x.index(c[0]),x.index(c[1])))\n",
        "print(len(set(inv)))\n",
        "\n",
        "\n"
      ]
    },
    {
      "cell_type": "code",
      "execution_count": null,
      "metadata": {
        "colab": {
          "base_uri": "https://localhost:8080/"
        },
        "id": "c2iD530-aAUj",
        "outputId": "a667a551-4d06-4277-bffb-880e1edf307b"
      },
      "outputs": [
        {
          "name": "stdout",
          "output_type": "stream",
          "text": [
            "[(1, 2), (1, 3), (1, 5), (4, 5)]\n"
          ]
        }
      ],
      "source": [
        "def count_inversions(a):\n",
        "    pairs = [(i,j) for i,v in enumerate(a) for j,k in enumerate(a) if v > k and i < j ]\n",
        "    print(pairs)\n",
        "        \n",
        "count_inversions(x)"
      ]
    },
    {
      "cell_type": "code",
      "execution_count": null,
      "metadata": {
        "id": "C7M5TQMlcMWX"
      },
      "outputs": [],
      "source": [
        "# longest substring without repeating characters\n",
        "\n",
        "s = 'abcabcbb'\n",
        "\n",
        "def longestSubString(string: str) -> str:\n",
        "    lastSeen = {}\n",
        "    startIdx = 0\n",
        "    longest = [0,1]\n",
        "    for i, v in enumerate(string):\n",
        "        if v in lastSeen:\n",
        "            startIdx = max(startIdx, lastSeen[v]+1)\n",
        "        if longest[1] - longest[0] < i+1 - startIdx:\n",
        "            longest = [startIdx, i+1]\n",
        "        lastSeen[v] = i\n",
        "    return string[longest[0]:longest[1]]\n",
        "\n"
      ]
    },
    {
      "cell_type": "code",
      "execution_count": null,
      "metadata": {
        "colab": {
          "base_uri": "https://localhost:8080/",
          "height": 500
        },
        "id": "VSRN9t_z1txN",
        "outputId": "80aa8c50-bcfc-4984-d19e-dd54d6850beb"
      },
      "outputs": [
        {
          "name": "stdout",
          "output_type": "stream",
          "text": [
            "{}\n",
            "[0, 1]\n",
            "{'c': 0}\n",
            "[0, 1]\n",
            "{'c': 0, 'l': 1}\n",
            "[0, 2]\n",
            "{'c': 0, 'l': 1, 'e': 2}\n",
            "[0, 3]\n",
            "{'c': 0, 'l': 1, 'e': 2, 'm': 3}\n",
            "[0, 4]\n",
            "before 0\n",
            "after 3\n",
            "{'c': 0, 'l': 1, 'e': 4, 'm': 3}\n",
            "[0, 4]\n",
            "{'c': 0, 'l': 1, 'e': 4, 'm': 3, 'n': 5}\n",
            "[0, 4]\n",
            "{'c': 0, 'l': 1, 'e': 4, 'm': 3, 'n': 5, 't': 6}\n",
            "[0, 4]\n",
            "{'c': 0, 'l': 1, 'e': 4, 'm': 3, 'n': 5, 't': 6, 'i': 7}\n",
            "[3, 8]\n",
            "{'c': 0, 'l': 1, 'e': 4, 'm': 3, 'n': 5, 't': 6, 'i': 7, 's': 8}\n",
            "[3, 9]\n",
            "{'c': 0, 'l': 1, 'e': 4, 'm': 3, 'n': 5, 't': 6, 'i': 7, 's': 8, 'a': 9}\n",
            "[3, 10]\n",
            "before 3\n",
            "after 3\n"
          ]
        },
        {
          "data": {
            "application/vnd.google.colaboratory.intrinsic+json": {
              "type": "string"
            },
            "text/plain": [
              "'mentisac'"
            ]
          },
          "execution_count": 50,
          "metadata": {},
          "output_type": "execute_result"
        }
      ],
      "source": [
        "longestSubString('clementisac')"
      ]
    },
    {
      "cell_type": "code",
      "execution_count": null,
      "metadata": {
        "colab": {
          "base_uri": "https://localhost:8080/"
        },
        "id": "95I4N6fEkmbY",
        "outputId": "b7a4d4fe-2223-44fd-ed4e-1d984400c94d"
      },
      "outputs": [
        {
          "data": {
            "text/plain": [
              "-321"
            ]
          },
          "execution_count": 23,
          "metadata": {},
          "output_type": "execute_result"
        }
      ],
      "source": [
        "x = -123\n",
        "\n",
        "def print_reverse(x):\n",
        "    if str(x)[0] == \"-\":\n",
        "        return (-(int(str(abs(x))[::-1])))\n",
        "    else: return int(str(x)[::-1])\n",
        "print_reverse(x)"
      ]
    },
    {
      "cell_type": "markdown",
      "metadata": {
        "id": "Mmz9dBLDlScy"
      },
      "source": [
        "two wires are connected to a central port and extend outward on a grid. You trace the path each wire takes as it leaves the central port, one wire per line of text (your puzzle input).\n",
        "\n",
        "The wires twist and turn, but the two wires occasionally cross paths. To fix the circuit, you need to find the intersection point closest to the central port. Because the wires are on a grid, use the Manhattan distance for this measurement. While the wires do technically cross right at the central port where they both start, this point does not count, nor does a wire count as crossing with itself.\n",
        "\n",
        "For example, if the first wire's path is R8,U5,L5,D3, then starting from the central port (o), it goes right 8, up 5, left 5, and finally down 3:\n",
        "\n",
        "    ...........\n",
        "    ...........\n",
        "    ...........\n",
        "    ....+----+.\n",
        "    ....|....|.\n",
        "    ....|....|.\n",
        "    ....|....|.\n",
        "    .........|.\n",
        "    .o-------+.\n",
        "    ...........\n",
        "Then, if the second wire's path is U7,R6,D4,L4, it goes up 7, right 6, down 4, and left 4:\n",
        "\n",
        "    ...........\n",
        "    .+-----+...\n",
        "    .|.....|...\n",
        "    .|..+--X-+.\n",
        "    .|..|..|.|.\n",
        "    .|.-X--+.|.\n",
        "    .|..|....|.\n",
        "    .|.......|.\n",
        "    .o-------+.\n",
        "    ...........\n",
        "These wires cross at two locations (marked X), but the lower-left one is closer to the central port: its distance is 3 + 3 = 6.\n",
        "\n",
        "Here are a few more examples:\n",
        "\n",
        "R75,D30,R83,U83,L12,D49,R71,U7,L72\n",
        "\n",
        "U62,R66,U55,R34,D71,R55,D58,R83 = distance 159\n",
        "\n",
        "R98,U47,R26,D63,R33,U87,L62,D20,R33,U53,R51\n",
        "\n",
        "U98,R91,D20,R16,D67,R40,U7,R15,U6,R7 = distance 135\n",
        "\n",
        "What is the Manhattan distance from the central port to the closest intersection?"
      ]
    },
    {
      "cell_type": "code",
      "execution_count": null,
      "metadata": {
        "colab": {
          "base_uri": "https://localhost:8080/",
          "height": 375
        },
        "id": "XwztY268CBAK",
        "outputId": "a36d6383-b88b-45ad-8749-4cec4cd36c6e"
      },
      "outputs": [
        {
          "data": {
            "text/html": [
              "\n",
              "     <input type=\"file\" id=\"files-92121ad4-8978-4c38-81b8-322ca48c7212\" name=\"files[]\" multiple disabled\n",
              "        style=\"border:none\" />\n",
              "     <output id=\"result-92121ad4-8978-4c38-81b8-322ca48c7212\">\n",
              "      Upload widget is only available when the cell has been executed in the\n",
              "      current browser session. Please rerun this cell to enable.\n",
              "      </output>\n",
              "      <script>// Copyright 2017 Google LLC\n",
              "//\n",
              "// Licensed under the Apache License, Version 2.0 (the \"License\");\n",
              "// you may not use this file except in compliance with the License.\n",
              "// You may obtain a copy of the License at\n",
              "//\n",
              "//      http://www.apache.org/licenses/LICENSE-2.0\n",
              "//\n",
              "// Unless required by applicable law or agreed to in writing, software\n",
              "// distributed under the License is distributed on an \"AS IS\" BASIS,\n",
              "// WITHOUT WARRANTIES OR CONDITIONS OF ANY KIND, either express or implied.\n",
              "// See the License for the specific language governing permissions and\n",
              "// limitations under the License.\n",
              "\n",
              "/**\n",
              " * @fileoverview Helpers for google.colab Python module.\n",
              " */\n",
              "(function(scope) {\n",
              "function span(text, styleAttributes = {}) {\n",
              "  const element = document.createElement('span');\n",
              "  element.textContent = text;\n",
              "  for (const key of Object.keys(styleAttributes)) {\n",
              "    element.style[key] = styleAttributes[key];\n",
              "  }\n",
              "  return element;\n",
              "}\n",
              "\n",
              "// Max number of bytes which will be uploaded at a time.\n",
              "const MAX_PAYLOAD_SIZE = 100 * 1024;\n",
              "\n",
              "function _uploadFiles(inputId, outputId) {\n",
              "  const steps = uploadFilesStep(inputId, outputId);\n",
              "  const outputElement = document.getElementById(outputId);\n",
              "  // Cache steps on the outputElement to make it available for the next call\n",
              "  // to uploadFilesContinue from Python.\n",
              "  outputElement.steps = steps;\n",
              "\n",
              "  return _uploadFilesContinue(outputId);\n",
              "}\n",
              "\n",
              "// This is roughly an async generator (not supported in the browser yet),\n",
              "// where there are multiple asynchronous steps and the Python side is going\n",
              "// to poll for completion of each step.\n",
              "// This uses a Promise to block the python side on completion of each step,\n",
              "// then passes the result of the previous step as the input to the next step.\n",
              "function _uploadFilesContinue(outputId) {\n",
              "  const outputElement = document.getElementById(outputId);\n",
              "  const steps = outputElement.steps;\n",
              "\n",
              "  const next = steps.next(outputElement.lastPromiseValue);\n",
              "  return Promise.resolve(next.value.promise).then((value) => {\n",
              "    // Cache the last promise value to make it available to the next\n",
              "    // step of the generator.\n",
              "    outputElement.lastPromiseValue = value;\n",
              "    return next.value.response;\n",
              "  });\n",
              "}\n",
              "\n",
              "/**\n",
              " * Generator function which is called between each async step of the upload\n",
              " * process.\n",
              " * @param {string} inputId Element ID of the input file picker element.\n",
              " * @param {string} outputId Element ID of the output display.\n",
              " * @return {!Iterable<!Object>} Iterable of next steps.\n",
              " */\n",
              "function* uploadFilesStep(inputId, outputId) {\n",
              "  const inputElement = document.getElementById(inputId);\n",
              "  inputElement.disabled = false;\n",
              "\n",
              "  const outputElement = document.getElementById(outputId);\n",
              "  outputElement.innerHTML = '';\n",
              "\n",
              "  const pickedPromise = new Promise((resolve) => {\n",
              "    inputElement.addEventListener('change', (e) => {\n",
              "      resolve(e.target.files);\n",
              "    });\n",
              "  });\n",
              "\n",
              "  const cancel = document.createElement('button');\n",
              "  inputElement.parentElement.appendChild(cancel);\n",
              "  cancel.textContent = 'Cancel upload';\n",
              "  const cancelPromise = new Promise((resolve) => {\n",
              "    cancel.onclick = () => {\n",
              "      resolve(null);\n",
              "    };\n",
              "  });\n",
              "\n",
              "  // Wait for the user to pick the files.\n",
              "  const files = yield {\n",
              "    promise: Promise.race([pickedPromise, cancelPromise]),\n",
              "    response: {\n",
              "      action: 'starting',\n",
              "    }\n",
              "  };\n",
              "\n",
              "  cancel.remove();\n",
              "\n",
              "  // Disable the input element since further picks are not allowed.\n",
              "  inputElement.disabled = true;\n",
              "\n",
              "  if (!files) {\n",
              "    return {\n",
              "      response: {\n",
              "        action: 'complete',\n",
              "      }\n",
              "    };\n",
              "  }\n",
              "\n",
              "  for (const file of files) {\n",
              "    const li = document.createElement('li');\n",
              "    li.append(span(file.name, {fontWeight: 'bold'}));\n",
              "    li.append(span(\n",
              "        `(${file.type || 'n/a'}) - ${file.size} bytes, ` +\n",
              "        `last modified: ${\n",
              "            file.lastModifiedDate ? file.lastModifiedDate.toLocaleDateString() :\n",
              "                                    'n/a'} - `));\n",
              "    const percent = span('0% done');\n",
              "    li.appendChild(percent);\n",
              "\n",
              "    outputElement.appendChild(li);\n",
              "\n",
              "    const fileDataPromise = new Promise((resolve) => {\n",
              "      const reader = new FileReader();\n",
              "      reader.onload = (e) => {\n",
              "        resolve(e.target.result);\n",
              "      };\n",
              "      reader.readAsArrayBuffer(file);\n",
              "    });\n",
              "    // Wait for the data to be ready.\n",
              "    let fileData = yield {\n",
              "      promise: fileDataPromise,\n",
              "      response: {\n",
              "        action: 'continue',\n",
              "      }\n",
              "    };\n",
              "\n",
              "    // Use a chunked sending to avoid message size limits. See b/62115660.\n",
              "    let position = 0;\n",
              "    do {\n",
              "      const length = Math.min(fileData.byteLength - position, MAX_PAYLOAD_SIZE);\n",
              "      const chunk = new Uint8Array(fileData, position, length);\n",
              "      position += length;\n",
              "\n",
              "      const base64 = btoa(String.fromCharCode.apply(null, chunk));\n",
              "      yield {\n",
              "        response: {\n",
              "          action: 'append',\n",
              "          file: file.name,\n",
              "          data: base64,\n",
              "        },\n",
              "      };\n",
              "\n",
              "      let percentDone = fileData.byteLength === 0 ?\n",
              "          100 :\n",
              "          Math.round((position / fileData.byteLength) * 100);\n",
              "      percent.textContent = `${percentDone}% done`;\n",
              "\n",
              "    } while (position < fileData.byteLength);\n",
              "  }\n",
              "\n",
              "  // All done.\n",
              "  yield {\n",
              "    response: {\n",
              "      action: 'complete',\n",
              "    }\n",
              "  };\n",
              "}\n",
              "\n",
              "scope.google = scope.google || {};\n",
              "scope.google.colab = scope.google.colab || {};\n",
              "scope.google.colab._files = {\n",
              "  _uploadFiles,\n",
              "  _uploadFilesContinue,\n",
              "};\n",
              "})(self);\n",
              "</script> "
            ],
            "text/plain": [
              "<IPython.core.display.HTML object>"
            ]
          },
          "metadata": {},
          "output_type": "display_data"
        },
        {
          "ename": "KeyboardInterrupt",
          "evalue": "ignored",
          "output_type": "error",
          "traceback": [
            "\u001b[0;31m---------------------------------------------------------------------------\u001b[0m",
            "\u001b[0;31mKeyboardInterrupt\u001b[0m                         Traceback (most recent call last)",
            "\u001b[0;32m<ipython-input-4-fd3b3adff038>\u001b[0m in \u001b[0;36m<module>\u001b[0;34m\u001b[0m\n\u001b[1;32m      5\u001b[0m \u001b[0;34m\u001b[0m\u001b[0m\n\u001b[1;32m      6\u001b[0m \u001b[0;32mfrom\u001b[0m \u001b[0mgoogle\u001b[0m\u001b[0;34m.\u001b[0m\u001b[0mcolab\u001b[0m \u001b[0;32mimport\u001b[0m \u001b[0mfiles\u001b[0m\u001b[0;34m\u001b[0m\u001b[0;34m\u001b[0m\u001b[0m\n\u001b[0;32m----> 7\u001b[0;31m \u001b[0muploaded\u001b[0m \u001b[0;34m=\u001b[0m \u001b[0mfiles\u001b[0m\u001b[0;34m.\u001b[0m\u001b[0mupload\u001b[0m\u001b[0;34m(\u001b[0m\u001b[0;34m)\u001b[0m\u001b[0;34m\u001b[0m\u001b[0;34m\u001b[0m\u001b[0m\n\u001b[0m",
            "\u001b[0;32m/usr/local/lib/python3.9/dist-packages/google/colab/files.py\u001b[0m in \u001b[0;36mupload\u001b[0;34m()\u001b[0m\n\u001b[1;32m     65\u001b[0m   \"\"\"\n\u001b[1;32m     66\u001b[0m \u001b[0;34m\u001b[0m\u001b[0m\n\u001b[0;32m---> 67\u001b[0;31m   \u001b[0muploaded_files\u001b[0m \u001b[0;34m=\u001b[0m \u001b[0m_upload_files\u001b[0m\u001b[0;34m(\u001b[0m\u001b[0mmultiple\u001b[0m\u001b[0;34m=\u001b[0m\u001b[0;32mTrue\u001b[0m\u001b[0;34m)\u001b[0m\u001b[0;34m\u001b[0m\u001b[0;34m\u001b[0m\u001b[0m\n\u001b[0m\u001b[1;32m     68\u001b[0m   \u001b[0;31m# Mapping from original filename to filename as saved locally.\u001b[0m\u001b[0;34m\u001b[0m\u001b[0;34m\u001b[0m\u001b[0m\n\u001b[1;32m     69\u001b[0m   \u001b[0mlocal_filenames\u001b[0m \u001b[0;34m=\u001b[0m \u001b[0mdict\u001b[0m\u001b[0;34m(\u001b[0m\u001b[0;34m)\u001b[0m\u001b[0;34m\u001b[0m\u001b[0;34m\u001b[0m\u001b[0m\n",
            "\u001b[0;32m/usr/local/lib/python3.9/dist-packages/google/colab/files.py\u001b[0m in \u001b[0;36m_upload_files\u001b[0;34m(multiple)\u001b[0m\n\u001b[1;32m    142\u001b[0m \u001b[0;34m\u001b[0m\u001b[0m\n\u001b[1;32m    143\u001b[0m   \u001b[0;31m# First result is always an indication that the file picker has completed.\u001b[0m\u001b[0;34m\u001b[0m\u001b[0;34m\u001b[0m\u001b[0m\n\u001b[0;32m--> 144\u001b[0;31m   result = _output.eval_js(\n\u001b[0m\u001b[1;32m    145\u001b[0m       'google.colab._files._uploadFiles(\"{input_id}\", \"{output_id}\")'.format(\n\u001b[1;32m    146\u001b[0m           input_id=input_id, output_id=output_id))\n",
            "\u001b[0;32m/usr/local/lib/python3.9/dist-packages/google/colab/output/_js.py\u001b[0m in \u001b[0;36meval_js\u001b[0;34m(script, ignore_result, timeout_sec)\u001b[0m\n\u001b[1;32m     38\u001b[0m   \u001b[0;32mif\u001b[0m \u001b[0mignore_result\u001b[0m\u001b[0;34m:\u001b[0m\u001b[0;34m\u001b[0m\u001b[0;34m\u001b[0m\u001b[0m\n\u001b[1;32m     39\u001b[0m     \u001b[0;32mreturn\u001b[0m\u001b[0;34m\u001b[0m\u001b[0;34m\u001b[0m\u001b[0m\n\u001b[0;32m---> 40\u001b[0;31m   \u001b[0;32mreturn\u001b[0m \u001b[0m_message\u001b[0m\u001b[0;34m.\u001b[0m\u001b[0mread_reply_from_input\u001b[0m\u001b[0;34m(\u001b[0m\u001b[0mrequest_id\u001b[0m\u001b[0;34m,\u001b[0m \u001b[0mtimeout_sec\u001b[0m\u001b[0;34m)\u001b[0m\u001b[0;34m\u001b[0m\u001b[0;34m\u001b[0m\u001b[0m\n\u001b[0m\u001b[1;32m     41\u001b[0m \u001b[0;34m\u001b[0m\u001b[0m\n\u001b[1;32m     42\u001b[0m \u001b[0;34m\u001b[0m\u001b[0m\n",
            "\u001b[0;32m/usr/local/lib/python3.9/dist-packages/google/colab/_message.py\u001b[0m in \u001b[0;36mread_reply_from_input\u001b[0;34m(message_id, timeout_sec)\u001b[0m\n\u001b[1;32m     95\u001b[0m     \u001b[0mreply\u001b[0m \u001b[0;34m=\u001b[0m \u001b[0m_read_next_input_message\u001b[0m\u001b[0;34m(\u001b[0m\u001b[0;34m)\u001b[0m\u001b[0;34m\u001b[0m\u001b[0;34m\u001b[0m\u001b[0m\n\u001b[1;32m     96\u001b[0m     \u001b[0;32mif\u001b[0m \u001b[0mreply\u001b[0m \u001b[0;34m==\u001b[0m \u001b[0m_NOT_READY\u001b[0m \u001b[0;32mor\u001b[0m \u001b[0;32mnot\u001b[0m \u001b[0misinstance\u001b[0m\u001b[0;34m(\u001b[0m\u001b[0mreply\u001b[0m\u001b[0;34m,\u001b[0m \u001b[0mdict\u001b[0m\u001b[0;34m)\u001b[0m\u001b[0;34m:\u001b[0m\u001b[0;34m\u001b[0m\u001b[0;34m\u001b[0m\u001b[0m\n\u001b[0;32m---> 97\u001b[0;31m       \u001b[0mtime\u001b[0m\u001b[0;34m.\u001b[0m\u001b[0msleep\u001b[0m\u001b[0;34m(\u001b[0m\u001b[0;36m0.025\u001b[0m\u001b[0;34m)\u001b[0m\u001b[0;34m\u001b[0m\u001b[0;34m\u001b[0m\u001b[0m\n\u001b[0m\u001b[1;32m     98\u001b[0m       \u001b[0;32mcontinue\u001b[0m\u001b[0;34m\u001b[0m\u001b[0;34m\u001b[0m\u001b[0m\n\u001b[1;32m     99\u001b[0m     if (reply.get('type') == 'colab_reply' and\n",
            "\u001b[0;31mKeyboardInterrupt\u001b[0m: "
          ]
        }
      ],
      "source": [
        "# from IPython import get_ipython\n",
        "\n",
        "# ipython = get_ipython()\n",
        "# ipython.magic(\"sx wget https://cdn.iisc.talentsprint.com/CDS/Datasets/garments_worker_productivity.csv\")\n",
        "\n",
        "from google.colab import files\n",
        "uploaded = files.upload()"
      ]
    },
    {
      "cell_type": "code",
      "execution_count": null,
      "metadata": {
        "id": "H7jm0UTmA6b4"
      },
      "outputs": [],
      "source": [
        "#This code first reads the input file and parses the paths of the two lines. \n",
        "#It then follows each path and marks the visited cells on a grid. \n",
        "#The intersections of the two lines are found by finding the common elements of \n",
        "#the two sets of visited cells. The origin point is then removed from the set of\n",
        "#intersections. Finally, the Manhattan distance of each intersection point to \n",
        "#the origin is calculated, and the minimum distance is returned as the result.\n",
        "\n",
        "def read_input_file(file_path):\n",
        "    with open(file_path, 'r') as f:\n",
        "        return [line.strip().split(',') for line in f.readlines()]\n",
        "\n",
        "def follow_path(path):\n",
        "    visited = set()\n",
        "    x, y = 0, 0\n",
        "    for move in path:\n",
        "        direction, distance = move[0], int(move[1:])\n",
        "        dx, dy = 0, 0\n",
        "        if direction == 'R':\n",
        "            dx = 1\n",
        "        elif direction == 'L':\n",
        "            dx = -1\n",
        "        elif direction == 'U':\n",
        "            dy = 1\n",
        "        elif direction == 'D':\n",
        "            dy = -1\n",
        "        for i in range(distance):\n",
        "            x += dx\n",
        "            y += dy\n",
        "            visited.add((x, y))\n",
        "    return visited\n",
        "\n",
        "def find_intersections(path1, path2):\n",
        "    visited1 = follow_path(path1)\n",
        "    visited2 = follow_path(path2)\n",
        "    intersections = visited1.intersection(visited2)\n",
        "    intersections.discard((0, 0))\n",
        "    return intersections\n",
        "\n",
        "def manhattan_distance(point):\n",
        "    return abs(point[0]) + abs(point[1])\n",
        "\n",
        "def closest_intersection_distance1(file_path):\n",
        "    #paths = [['R75', 'D30', 'R83', 'U83', 'L12', 'D49', 'R71', 'U7', 'L72'], ['U62','R66','U55','R34','D71','R55','D58','R83']]#read_input_file(file_path)\n",
        "    #paths = [['R98','U47','R26','D63','R33','U87','L62','D20','R33','U53','R51'],['U98','R91','D20','R16','D67','R40','U7','R15','U6','R7']]\n",
        "    \n",
        "    intersections = find_intersections(paths[0], paths[1])\n",
        "    distances = [manhattan_distance(point) for point in intersections]\n",
        "    return min(distances)"
      ]
    },
    {
      "cell_type": "code",
      "execution_count": null,
      "metadata": {
        "id": "NU1VQ2mGYlR9"
      },
      "outputs": [],
      "source": []
    },
    {
      "cell_type": "code",
      "execution_count": null,
      "metadata": {
        "colab": {
          "base_uri": "https://localhost:8080/"
        },
        "id": "fAIuDS4_8Em1",
        "outputId": "92ff6711-75cc-4644-a66b-3de552b8a822"
      },
      "outputs": [
        {
          "name": "stdout",
          "output_type": "stream",
          "text": [
            "135\n"
          ]
        }
      ],
      "source": [
        "print(closest_intersection_distance1())\n"
      ]
    },
    {
      "cell_type": "code",
      "execution_count": null,
      "metadata": {
        "id": "dkjUwXVZBUTR"
      },
      "outputs": [],
      "source": [
        "paths = read_input_file('/content/input_file.txt')"
      ]
    },
    {
      "cell_type": "code",
      "execution_count": null,
      "metadata": {
        "colab": {
          "base_uri": "https://localhost:8080/"
        },
        "id": "DBOYZisNEjZU",
        "outputId": "2d6a4667-053d-4b74-b814-35b11503a9cc"
      },
      "outputs": [
        {
          "name": "stdout",
          "output_type": "stream",
          "text": [
            "Printing the R 75\n",
            "Printing the D 30\n",
            "Printing the R 83\n",
            "Printing the U 83\n",
            "Printing the L 12\n",
            "Printing the D 49\n",
            "Printing the R 71\n",
            "Printing the U 7\n",
            "Printing the L 72\n"
          ]
        },
        {
          "data": {
            "text/plain": [
              "{(-72, 0),\n",
              " (-12, 0),\n",
              " (0, -49),\n",
              " (0, -30),\n",
              " (0, 7),\n",
              " (0, 83),\n",
              " (71, 0),\n",
              " (75, 0),\n",
              " (83, 0)}"
            ]
          },
          "execution_count": 56,
          "metadata": {},
          "output_type": "execute_result"
        }
      ],
      "source": [
        "\n",
        "path = ['R75', 'D30', 'R83', 'U83', 'L12', 'D49', 'R71', 'U7', 'L72']\n",
        "['R98','U47','R26','D63','R33','U87','L62','D20','R33','U53','R51'],['U98','R91','D20','R16','D67','R40','U7','R15','U6','R7'] \n",
        "follow_path(path)\n"
      ]
    },
    {
      "cell_type": "code",
      "execution_count": null,
      "metadata": {
        "id": "WDTuqFjVxz7h"
      },
      "outputs": [],
      "source": [
        "\n",
        "# Rotate the array\n",
        "def rotate(arr, k):\n",
        "    n = len(arr)\n",
        "    k = k % n\n",
        "    \n",
        "    arr[:] = arr[n-k:]+ arr[:n-k]\n",
        "    return arr"
      ]
    },
    {
      "cell_type": "code",
      "execution_count": null,
      "metadata": {
        "colab": {
          "base_uri": "https://localhost:8080/"
        },
        "id": "DeMAGARXyD8U",
        "outputId": "fe4a67b4-a8df-47cb-8e6b-fc160d62854f"
      },
      "outputs": [
        {
          "data": {
            "text/plain": [
              "[5, 1, 2, 3, 4]"
            ]
          },
          "execution_count": 41,
          "metadata": {},
          "output_type": "execute_result"
        }
      ],
      "source": [
        "rotate([1,2,3,4,5],10001)"
      ]
    },
    {
      "cell_type": "code",
      "execution_count": null,
      "metadata": {
        "colab": {
          "base_uri": "https://localhost:8080/"
        },
        "id": "uVJJ-pDDhHSP",
        "outputId": "c2b2ab7c-ccab-4abd-8322-85c51c9669d9"
      },
      "outputs": [
        {
          "name": "stdout",
          "output_type": "stream",
          "text": [
            "1 8 0\n",
            "7 7 4\n",
            "6 8 4\n",
            "5 8 8\n",
            "4 8 11\n",
            "3 8 17\n",
            "2 8 19\n",
            "1 8 19\n"
          ]
        },
        {
          "data": {
            "text/plain": [
              "19"
            ]
          },
          "execution_count": 74,
          "metadata": {},
          "output_type": "execute_result"
        }
      ],
      "source": [
        "# Water trapped between pillars\n",
        "\n",
        "h = [0, 8, 0, 0, 5, 0, 0, 10, 0, 0, 1, 1, 0, 3]\n",
        "\n",
        "\n",
        "def water(height):\n",
        "    left = 0\n",
        "    right = len(height) -1\n",
        "    leftmax = height[left]\n",
        "    rightmax = height[right]\n",
        "    area = 0\n",
        "    while left < right:\n",
        "        if height[left] < height[right]:\n",
        "            left += 1\n",
        "            leftmax = max(leftmax, height[left])\n",
        "            area += leftmax - height[left]\n",
        "            print(left, leftmax, area)\n",
        "        else:\n",
        "            right -= 1\n",
        "            rightmax = max(rightmax, height[right])\n",
        "            area += rightmax - height[right]\n",
        "            print(right, rightmax, area)\n",
        "    return area\n",
        "\n",
        "maxArea([1,8,6,2,5,4,8,3,7])"
      ]
    },
    {
      "cell_type": "code",
      "execution_count": null,
      "metadata": {
        "colab": {
          "base_uri": "https://localhost:8080/"
        },
        "id": "1Q12fhYx6SPJ",
        "outputId": "01b2c00a-06e5-4714-c353-8aaf71630281"
      },
      "outputs": [
        {
          "data": {
            "text/plain": [
              "[[], [], [], [], []]"
            ]
          },
          "execution_count": 5,
          "metadata": {},
          "output_type": "execute_result"
        }
      ],
      "source": [
        "list1 = [ [ ] ] * 5\n",
        "list1"
      ]
    },
    {
      "cell_type": "code",
      "execution_count": null,
      "metadata": {
        "colab": {
          "base_uri": "https://localhost:8080/"
        },
        "id": "SZvymApSdyHl",
        "outputId": "13e3fa12-0365-4213-d6d2-01da14548945"
      },
      "outputs": [
        {
          "data": {
            "text/plain": [
              "[1, 2, 4, 5, 7, 9, 10, 13, 14, 16, 17, 19, 20]"
            ]
          },
          "execution_count": 7,
          "metadata": {},
          "output_type": "execute_result"
        }
      ],
      "source": [
        "# merge two sorted lists\n",
        "\n",
        "def mergeTwoSorted(arr1, arr2):\n",
        "    idx1 =0\n",
        "    idx2 =0\n",
        "    merged = []\n",
        "    while idx1 < len(arr1):\n",
        "        if arr1[idx1] < arr2[idx2]:\n",
        "            merged.append(arr1[idx1])\n",
        "            idx1 += 1\n",
        "        elif arr2[idx2] < arr1[idx1]:\n",
        "            merged.append(arr2[idx2])\n",
        "            idx2 += 1\n",
        "    if idx1 < len(arr1):\n",
        "        merged += arr1[idx1:]\n",
        "    if idx2 < len(arr2):\n",
        "        merged += arr2[idx2:]\n",
        "    return merged\n",
        "\n",
        "\n",
        "arr1 = [1,4,5,9,13]\n",
        "arr2 =[2,7,10,14,16,17,19,20]\n",
        "\n",
        "mergeTwoSorted(arr1, arr2)\n",
        "\n",
        "\n"
      ]
    },
    {
      "cell_type": "code",
      "execution_count": null,
      "metadata": {
        "colab": {
          "base_uri": "https://localhost:8080/"
        },
        "id": "L-w2ACKXuCOa",
        "outputId": "8394d77f-dddc-40c0-f6f5-218ff60da315"
      },
      "outputs": [
        {
          "name": "stdout",
          "output_type": "stream",
          "text": [
            "['banana-->', 'apple-->', 'grapes-->']\n",
            "['figs-->', 'banana-->', 'apple-->', 'grapes-->']\n",
            "['figs-->', 'banana-->', 'mango-->', 'apple-->', 'grapes-->']\n",
            "['figs-->', 'banana-->', 'mango-->', 'grapes-->']\n"
          ]
        }
      ],
      "source": [
        "\n",
        "# Remove Kth Node from end of a singly linked list\n",
        "class Node:\n",
        "    def __init__(self, data, next= None):\n",
        "        self.data = data\n",
        "        self.next = next\n",
        "\n",
        "class LinkedList:\n",
        "    def __init__(self, head):\n",
        "        self.head = head\n",
        "\n",
        "    \n",
        "    def insert_at_front(self, val):\n",
        "        if self.head is not None:\n",
        "            self.head = Node(val,self.head)\n",
        "        else:\n",
        "            self.head = Node(val)\n",
        "\n",
        "    \n",
        "    def insert_at_rear(self,val):\n",
        "        if self.head is None:\n",
        "            self.head = Node(val)\n",
        "        \n",
        "        else:\n",
        "            itr = self.head\n",
        "            while itr.next:\n",
        "                itr = itr.next\n",
        "            itr.next = Node(val)\n",
        "    \n",
        "    def get_length(self):\n",
        "        cnt = 0\n",
        "        itr = self.head\n",
        "        while itr:            \n",
        "            itr = itr.next\n",
        "            cnt += 1\n",
        "        return cnt\n",
        "    \n",
        "    def insert_at_k(self, val, k):\n",
        "        if k == 0:\n",
        "            self.insert_at_front(val)\n",
        "        else:\n",
        "            cnt = 0\n",
        "            itr = self.head\n",
        "            while itr:\n",
        "                if cnt == k-1:\n",
        "                    itr.next = Node(val, itr.next)\n",
        "                    break\n",
        "                itr = itr.next\n",
        "                cnt += 1\n",
        "    \n",
        "    def remove_at_k(self, k):\n",
        "        if k == 0:\n",
        "            self.head = self.head.next\n",
        "        else:\n",
        "            cnt = 0\n",
        "            itr = self.head\n",
        "            while itr:\n",
        "                if cnt == k-1:\n",
        "                    itr.next = itr.next.next\n",
        "                    break\n",
        "                \n",
        "                itr = itr.next\n",
        "                cnt += 1\n",
        "\n",
        "    def remove_at_k_from_end(self, k):\n",
        "        length = self.get_length()\n",
        "        removal_pos = length - k - 1\n",
        "        cnt = 0\n",
        "        itr = self.head\n",
        "        while itr:\n",
        "            if cnt == removal_pos:\n",
        "                itr.next = itr.next.next\n",
        "                break            \n",
        "            itr = itr.next\n",
        "            cnt += 1\n",
        "         \n",
        "\n",
        "        \n",
        "    def print_list(self):\n",
        "        if self.head is None:\n",
        "            print(\"Empty list\")\n",
        "            return\n",
        "        else:\n",
        "            itr = self.head\n",
        "            llst = []\n",
        "            while itr:\n",
        "                llst.append(itr.data)\n",
        "                itr = itr.next\n",
        "        print( [str(i)+'-->' for i in llst])\n",
        "\n",
        "X = LinkedList(Node('apple'))\n",
        "X.insert_at_front('banana')\n",
        "X.insert_at_rear('grapes')\n",
        "X.print_list()\n",
        "X.insert_at_k('figs',0)\n",
        "X.print_list()\n",
        "X.insert_at_k('mango',2)\n",
        "X.print_list()\n",
        "X.remove_at_k_from_end(2)\n",
        "X.print_list()\n",
        "\n",
        "\n"
      ]
    },
    {
      "cell_type": "code",
      "execution_count": null,
      "metadata": {
        "colab": {
          "base_uri": "https://localhost:8080/"
        },
        "id": "5RqvXcTl2scf",
        "outputId": "f4fe0bf3-8b45-4b1a-a954-a2d62e0b87ef"
      },
      "outputs": [
        {
          "name": "stdout",
          "output_type": "stream",
          "text": [
            "abc def\n"
          ]
        }
      ],
      "source": [
        "a,b ='abc;def'.split(';')\n",
        "print(a,b)"
      ]
    },
    {
      "cell_type": "code",
      "execution_count": null,
      "metadata": {
        "colab": {
          "base_uri": "https://localhost:8080/"
        },
        "id": "u0j5EO4d6Lkf",
        "outputId": "ce9b37e5-da0a-4e0d-8b72-d677397777f7"
      },
      "outputs": [
        {
          "data": {
            "text/plain": [
              "['n', 't', 'e']"
            ]
          },
          "execution_count": 46,
          "metadata": {},
          "output_type": "execute_result"
        }
      ],
      "source": [
        "from itertools import combinations\n",
        "#A= 'ZXVVYZW'\n",
        "#B = 'XKYKPZW'\n",
        "A = 'clement'\n",
        "B = 'antoine'\n",
        "\n",
        "from itertools import combinations\n",
        "intersect = set(A).intersection(set(B))\n",
        "# combs = [''.join(x) for i in range(len(intersect)) for x in combinations(intersect, i+1)]\n",
        "# [i for i in combs ]\n",
        "locs = []\n",
        "for i in intersect:\n",
        "    locs.append(B.index(i))\n",
        "[B[i] for i in sorted(locs)]\n"
      ]
    },
    {
      "cell_type": "code",
      "execution_count": null,
      "metadata": {
        "colab": {
          "base_uri": "https://localhost:8080/"
        },
        "id": "km0yP7l1Ez31",
        "outputId": "34f9a742-5042-421f-f089-d5372fa81efa"
      },
      "outputs": [
        {
          "data": {
            "text/plain": [
              "5"
            ]
          },
          "execution_count": 39,
          "metadata": {},
          "output_type": "execute_result"
        }
      ],
      "source": [
        "'clement'.find('nt')"
      ]
    },
    {
      "cell_type": "code",
      "execution_count": null,
      "metadata": {
        "colab": {
          "base_uri": "https://localhost:8080/"
        },
        "id": "vmsXP1cG9ZkC",
        "outputId": "8cb5f89e-f4ed-45ac-e0a3-15195255b354"
      },
      "outputs": [
        {
          "data": {
            "text/plain": [
              "[-4, -1, 0, 2, 3, 4, 5, 6, 7, 8, 9]"
            ]
          },
          "execution_count": 107,
          "metadata": {},
          "output_type": "execute_result"
        }
      ],
      "source": [
        "\n",
        "# Merge K Sorted Lists\n",
        "from itertools import zip_longest\n",
        "X = [[-1,3,4,7],[-4,0,5],[2,6,8,9]]\n",
        "\n",
        "def mergeKSortedLists(X):\n",
        "    zipped = [list(i) for i in list(zip_longest(*X))]\n",
        "    sorted_zipped = [sorted(lst,key=lambda x: (x is None,x)) for lst in zipped]\n",
        "    return sorted([i for subs in sorted_zipped for i in subs if i is not None])\n",
        "        \n",
        "mergeKSortedLists(X)\n",
        "    \n",
        "\n",
        "\n",
        "    # idx1 = idx2 = idx3 = 0\n",
        "    # while idx1< len(X0) and idx2 < len(X1) and \n"
      ]
    },
    {
      "cell_type": "code",
      "execution_count": null,
      "metadata": {
        "colab": {
          "base_uri": "https://localhost:8080/"
        },
        "id": "RPWRoCkwNSHq",
        "outputId": "cfe63a7c-f4ce-4bf2-c5a8-de5550a39c5b"
      },
      "outputs": [
        {
          "data": {
            "text/plain": [
              "{'oy': ['yo', 'oy'],\n",
              " 'act': ['act', 'tac', 'cat'],\n",
              " 'flop': ['flop', 'olfp'],\n",
              " 'foo': ['foo']}"
            ]
          },
          "execution_count": 12,
          "metadata": {},
          "output_type": "execute_result"
        }
      ],
      "source": [
        "# group anagrams\n",
        "\n",
        "X = ['yo', 'act','flop', 'tac', 'oy', 'olfp','cat','foo']\n",
        "\n",
        "def groupAnagrams(X):\n",
        "    map ={}\n",
        "    for word in X:\n",
        "        sw = ''.join(sorted(word))\n",
        "        if sw in map:\n",
        "            map[sw].append(word)\n",
        "        else:\n",
        "            map[sw] = [word] \n",
        "\n",
        "    \n",
        "    return map\n",
        "\n",
        "\n",
        "groupAnagrams(X)"
      ]
    },
    {
      "cell_type": "code",
      "execution_count": null,
      "metadata": {
        "colab": {
          "base_uri": "https://localhost:8080/"
        },
        "id": "5xds0_c8F9EK",
        "outputId": "cef9fdf9-3cad-45e2-b4f9-ea61b3f97f8b"
      },
      "outputs": [
        {
          "data": {
            "text/plain": [
              "[[-4, -1, 2], [0, 3, 6], [4, 5, 8], [7, 9, None]]"
            ]
          },
          "execution_count": 103,
          "metadata": {},
          "output_type": "execute_result"
        }
      ],
      "source": [
        "\n",
        "[sorted(lst,key=lambda x: (x is None,x)) for lst in [[-1, -4, 2], [3, 0, 6], [4, 5, 8], [7, None, 9]]]  \n"
      ]
    },
    {
      "cell_type": "code",
      "execution_count": null,
      "metadata": {
        "colab": {
          "base_uri": "https://localhost:8080/",
          "height": 35
        },
        "id": "GMJZI2tsJ0lW",
        "outputId": "ace7b0dd-c7e5-4af1-93e4-b70ebe421b6d"
      },
      "outputs": [
        {
          "data": {
            "application/vnd.google.colaboratory.intrinsic+json": {
              "type": "string"
            },
            "text/plain": [
              "'yo'"
            ]
          },
          "execution_count": 19,
          "metadata": {},
          "output_type": "execute_result"
        }
      ],
      "source": [
        "X.__iter__().__next__()"
      ]
    },
    {
      "cell_type": "markdown",
      "metadata": {
        "id": "OB6-0w9HkJUN"
      },
      "source": [
        "Orbit Problem - Solved below\n",
        "\n",
        "            G - H       J - K - L\n",
        "            /           /\n",
        "    COM - B - C - D - E - F\n",
        "                    \\\n",
        "                    I\n",
        "In this visual representation, when two objects are connected by a line, the one on the right directly orbits the one on the left.\n",
        "\n",
        "Here, we can count the total number of orbits as follows:\n",
        "\n",
        "D directly orbits C and indirectly orbits B and COM, a total of 3 orbits.\n",
        "L directly orbits K and indirectly orbits J, E, D, C, B, and COM, a total of 7 orbits.\n",
        "COM orbits nothing.\n",
        "The total number of direct and indirect orbits in this example is 42.\n",
        "\n",
        "\n",
        "\n"
      ]
    },
    {
      "cell_type": "code",
      "execution_count": null,
      "metadata": {
        "colab": {
          "base_uri": "https://localhost:8080/"
        },
        "id": "gRTa90PbSRGJ",
        "outputId": "f02b9dc8-3412-43e6-a5d3-b699f212cd0b"
      },
      "outputs": [
        {
          "name": "stdout",
          "output_type": "stream",
          "text": [
            "78\n"
          ]
        }
      ],
      "source": [
        "# If a graph is given like below visual representation \n",
        "\n",
        "\n",
        "graph = ['COM',['B', 'G', 'H'], 'C', ['D', 'I'], ['E', 'J', 'K', 'L',], 'F',['G','M','N'],'H',['O'] ]\n",
        "\n",
        "orbits  = 0\n",
        "count = 1\n",
        "for i in range(1,len(graph)):\n",
        "    if isinstance(graph[i],list):     \n",
        "        for x in range(0,len(graph[i])):\n",
        "            orbits += count+ x    \n",
        "        count += 1 \n",
        "    else:\n",
        "        orbits += len(graph[:i])\n",
        "        count += 1 \n",
        "        \n",
        "\n",
        "print(orbits)\n",
        "    "
      ]
    },
    {
      "cell_type": "code",
      "execution_count": null,
      "metadata": {
        "colab": {
          "base_uri": "https://localhost:8080/"
        },
        "id": "jG6w_jZMMc19",
        "outputId": "602c5e00-5d5c-45e8-ed24-de1800a84f3b"
      },
      "outputs": [
        {
          "name": "stdout",
          "output_type": "stream",
          "text": [
            "[0, 6, 9, 14]\n"
          ]
        }
      ],
      "source": [
        "#This problem was asked by Google.\n",
        "\n",
        "#Given a word W and a string S, find all starting indices in S which are anagrams of W.\n",
        "\n",
        "#For example, given that W is \"ab\", and S is \"abxaba\", return 0, 3, and 4.\n",
        "W = 'cat'\n",
        "S = 'catvdgtacactbdact'\n",
        "def anagrams_in(W,S):\n",
        "    length = len(W)\n",
        "    from itertools import permutations\n",
        "    anagrams = [''.join(comb) for comb in permutations(W,length)]\n",
        "    locs = [i for i in range(0,len(S)) if S[i:i+length] in anagrams]\n",
        "    print(locs)\n",
        "\n",
        "anagrams_in(W,S)"
      ]
    },
    {
      "cell_type": "code",
      "execution_count": null,
      "metadata": {
        "colab": {
          "base_uri": "https://localhost:8080/"
        },
        "id": "4dS6b5awwtMO",
        "outputId": "64d04db0-4236-4b9d-9284-c9190422fe61"
      },
      "outputs": [
        {
          "name": "stdout",
          "output_type": "stream",
          "text": [
            "1\n"
          ]
        }
      ],
      "source": [
        "# If the element at index 1 is 3, you can go to index 2,4 or 4. \n",
        "# Write a function which counts min no of jumps before you reach the end index\n",
        "#array = [3,4,2,1,2,3,7,1,1,1,3]\n",
        "array = [2,3,1,1,4]\n",
        "def minNumberOfJumps(array):\n",
        "    # Write your code here.\n",
        "    # steps = 0\n",
        "    # max_next = 0\n",
        "    # idx = 0\n",
        "    # if array: \n",
        "    #     if len(array) < 2:\n",
        "    #         return 0\n",
        "    #     elif len(array) == 2:\n",
        "    #         return 1\n",
        "    # else: return 0\n",
        "    # while idx < len(array)-1:            \n",
        "    #     if len(array[idx:]) < max_next:\n",
        "    #         break\n",
        "    #     else:\n",
        "    #         max_next = max(array[idx+1:array[idx]+idx+1]) if idx!= 0 else max(array[idx+1:array[idx+1]+idx])        \n",
        "    #         index_of_mx = array[idx:].index(max_next) +len(array[:idx])\n",
        "    #         steps += 1\n",
        "    #         idx = index_of_mx\n",
        "    # if idx == len(array)-1:\n",
        "    #     return steps\n",
        "    # elif idx < len(array)-1 and max_next > len(array[idx+1:]):\n",
        "    #     print(max_next, array[idx+1:])\n",
        "    #     steps += 1\n",
        "    # return steps\n",
        "\n",
        "    start = end = count = 0\n",
        "    for i in range(len(array)-1):\n",
        "        start = max(start, i + array[i])\n",
        "        if end == i:\n",
        "            end = start\n",
        "            count += 1\n",
        "        return count\n",
        "print(minNumberOfJumps(array))"
      ]
    },
    {
      "cell_type": "code",
      "execution_count": null,
      "metadata": {
        "colab": {
          "base_uri": "https://localhost:8080/"
        },
        "id": "W3f0-brdRRxC",
        "outputId": "4effcf47-d0e9-49a7-e9d2-b3dca56e9f9e"
      },
      "outputs": [
        {
          "data": {
            "text/plain": [
              "[]"
            ]
          },
          "execution_count": 32,
          "metadata": {},
          "output_type": "execute_result"
        }
      ],
      "source": [
        "array[4:3]"
      ]
    },
    {
      "cell_type": "markdown",
      "metadata": {
        "id": "8UIGQgfS00LD"
      },
      "source": [
        "A city's skyline is the outer contour of the silhouette formed by all the buildings in that city when viewed from a distance. Given the locations and heights of all the buildings, return the skyline formed by these buildings collectively.\n",
        "\n",
        "The geometric information of each building is given in the array buildings where buildings[i] = [lefti, righti, heighti]:\n",
        "\n",
        "lefti is the x coordinate of the left edge of the ith building.\n",
        "righti is the x coordinate of the right edge of the ith building.\n",
        "heighti is the height of the ith building.\n",
        "You may assume all buildings are perfect rectangles grounded on an absolutely flat surface at height 0.\n",
        "\n",
        "Input: buildings = [[2,9,10],[3,7,15],[5,12,12],[15,20,10],[19,24,8]]\n",
        "\n",
        "Output: [[2,10],[3,15],[7,12],[12,0],[15,10],[20,8],[24,0]]\n",
        "\n",
        "![skyline.jpeg](data:image/jpeg;base64,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)\n",
        "\n",
        "Explanation:\n",
        "Figure A shows the buildings of the input.\n",
        "Figure B shows the skyline formed by those buildings. The red points in figure B represent the key points in the output list.\n",
        "\n",
        "The skyline should be represented as a list of \"key points\" sorted by their x-coordinate in the form [[x1,y1],[x2,y2],...]. Each key point is the left endpoint of some horizontal segment in the skyline except the last point in the list, which always has a y-coordinate 0 and is used to mark the skyline's termination where the rightmost building ends. Any ground between the leftmost and rightmost buildings should be part of the skyline's contour."
      ]
    },
    {
      "cell_type": "code",
      "execution_count": null,
      "metadata": {
        "colab": {
          "base_uri": "https://localhost:8080/"
        },
        "id": "ziC4Gwhgf0Qw",
        "outputId": "bf5b2e4e-b736-4174-b782-ec0962ccce6f"
      },
      "outputs": [
        {
          "data": {
            "text/plain": [
              "[[2, 10], [3, 15], [7, 12], [12, 0], [15, 10], [20, 8], [24, 0]]"
            ]
          },
          "execution_count": 23,
          "metadata": {},
          "output_type": "execute_result"
        }
      ],
      "source": [
        "from bisect import bisect_left, bisect_right\n",
        "def skyline(buildings):\n",
        "    # final = [[arr[0][0],arr[0][2]]] \n",
        "    # idx = 1\n",
        "    # left = arr[0][0]\n",
        "    # right = arr[0][1]    \n",
        "    # higher = arr[0][2]\n",
        "    # # while idx < len(arr) -1:\n",
        "    # #     height = arr[idx][2]\n",
        "    # #     final.append([min(left,right),height])\n",
        "    # #     left = right\n",
        "    # #     print(idx, right, final[-1][0], right != final[-1][0], arr[idx])\n",
        "    # #     right = min(right, arr[idx+1][0]) if right != final[-1][0] else max(right, arr[idx+1][0])\n",
        "    # #     print(left,right)\n",
        "    # #     higher = max( higher, height)\n",
        "    # #     idx += 1\n",
        "\n",
        "    # while idx < len(arr)-1:\n",
        "    #     height = arr[idx][2]\n",
        "    #     next_height = arr[idx+1][2]\n",
        "    #     print(f\"height: {height}, next_height: {next_height}, left: {arr[idx][0]}, right: {right}, arr[idx][1]: {arr[idx][1]}\")\n",
        "    #     if height > next_height:           \n",
        "    #         left = arr[idx][0]\n",
        "    #         right = arr[idx][1]\n",
        "    #         final.append([left, height])    \n",
        "    #     final.append([right, height])\n",
        "    #     idx += 1\n",
        "        \n",
        "    # return final\n",
        "    if len(buildings) == 0: \n",
        "            return []\n",
        "        \n",
        "    buildings.sort(key=lambda v: v[2])\n",
        "    pos, height = [0], [0]\n",
        "    for left, right, h in buildings: \n",
        "        i = bisect_left(pos, left)\n",
        "        j = bisect_right(pos, right)\n",
        "        height[i:j] = [h, height[j-1]]\n",
        "        pos[i:j] = [left, right]\n",
        "\n",
        "    res = []\n",
        "    prev = 0\n",
        "    for v, h in zip(pos, height): \n",
        "        if h != prev:\n",
        "            res.append([v,h]) \n",
        "            prev = h\n",
        "            \n",
        "    return res\n",
        "\n",
        "skyline([[2,9,10],[3,7,15],[5,12,12],[15,20,10],[19,24,8]])"
      ]
    },
    {
      "cell_type": "code",
      "execution_count": null,
      "metadata": {
        "colab": {
          "base_uri": "https://localhost:8080/"
        },
        "id": "jV-bWE5ZCrkH",
        "outputId": "4bdbad06-9f60-4365-9876-2e1826a719ca"
      },
      "outputs": [
        {
          "name": "stdout",
          "output_type": "stream",
          "text": [
            "Sleeping for 5 secs\n",
            "Sleeping for 4 secs\n",
            "Sleeping for 3 secs\n",
            "Sleeping for 2 secs\n",
            "Sleeping for 1 secs\n",
            "Done Sleeping\n",
            "Done Sleeping\n",
            "Done Sleeping\n",
            "Done Sleeping\n",
            "Done Sleeping\n",
            "5.01\n"
          ]
        }
      ],
      "source": [
        "# Multithreading and Multiprocessing\n",
        "\n",
        "\n",
        "\n",
        "import time, threading\n",
        "\n",
        "st = time.perf_counter()\n",
        "\n",
        "def do_something(s):\n",
        "    print(f'Sleeping for {s} secs')\n",
        "    time.sleep(s)\n",
        "    return 'Done Sleeping'\n",
        "\n",
        "#### # Older or manual way of creating and running threads.\n",
        "\n",
        "# threads = []\n",
        "# for _ in range(10):\n",
        "#     t = threading.Thread(target=do_something, args=[1.5])\n",
        "#     threads.append(t)\n",
        "#     t.start()\n",
        "\n",
        "# for t in threads:\n",
        "#     t.join()\n",
        "\n",
        "##### More efficient way to run threads in Python 3\n",
        "\n",
        "from concurrent.futures import ThreadPoolExecutor, as_completed\n",
        "\n",
        "with ThreadPoolExecutor() as ex:\n",
        "    # future_obj = ex.submit(do_something, 1) # a submit method just simply takes a request and \n",
        "    #                            # returns a futures object. In this exp\n",
        "    #                            # we are passing the function_name with arguments\n",
        "\n",
        "    # print(future_obj.result())\n",
        "\n",
        "    # results = [ ex.submit(do_something, sec) for sec in [5,4,3,2,1] ] # here we can also use map method which rather\n",
        "    #                                                                   # than resulting futures object, just return results\n",
        "    # for f in as_completed(results):\n",
        "    #     print(f.result())\n",
        "\n",
        "    results = ex.map(do_something, [5,4,3,2,1])\n",
        "    for x in results:\n",
        "        print(x)\n",
        "end = time.perf_counter()\n",
        "print(round(end-st,2))"
      ]
    },
    {
      "cell_type": "code",
      "execution_count": null,
      "metadata": {
        "colab": {
          "base_uri": "https://localhost:8080/"
        },
        "id": "5kv-bGo4F0W_",
        "outputId": "4f198baf-1a24-4da8-9eea-cbadcf50104f"
      },
      "outputs": [
        {
          "name": "stdout",
          "output_type": "stream",
          "text": [
            "Sleeping for 1 secs\n",
            "Done Sleeping\n"
          ]
        }
      ],
      "source": [
        "# More efficient way to run threads in Python 3\n",
        "\n",
        "from concurrent.futures import ThreadPoolExecutor\n",
        "\n",
        "with ThreadPoolExecutor() as ex:\n",
        "    future_obj = ex.submit(do_something, 1) # a submit method just simply takes a request and \n",
        "                               # returns a futures object. In this exp\n",
        "                               # we are passing the function_name with arguments\n",
        "\n",
        "    print(future_obj.result())"
      ]
    },
    {
      "cell_type": "code",
      "execution_count": null,
      "metadata": {
        "colab": {
          "base_uri": "https://localhost:8080/"
        },
        "id": "xK9u5KtgKQRT",
        "outputId": "8e3e9cba-5ab8-4a8b-d8ae-4fae5f91e698"
      },
      "outputs": [
        {
          "name": "stdout",
          "output_type": "stream",
          "text": [
            "finished in 0.01 secs\n"
          ]
        }
      ],
      "source": [
        "# An Exmaple of threading for downloading somephotos from web\n",
        "\n",
        "import requests\n",
        "\n",
        "urls = [\n",
        "        'https://www.pexels.com/photo/mountain-at-night-under-a-starry-sky-1624496',\n",
        "        'https://www.pexels.com/photo/red-leaf-trees-near-the-road-33109/',\n",
        "        'https://www.pexels.com/photo/blue-peacock-45911/',\n",
        "        'https://www.pexels.com/photo/blue-universe-956981/',\n",
        "        'https://www.pexels.com/photo/timelapse-photography-off-water-fountain-719396/',\n",
        "        ]\n",
        "\n",
        "\n",
        "def download_images(urls):\n",
        "    for url in urls:\n",
        "        imgb = requests.get(url).content\n",
        "        imgid = url.split('/')[4]\n",
        "        name = f'{imgid}.jpeg'\n",
        "        with open(name, 'wb') as img:\n",
        "            img.write(imgb)\n",
        "            print(f'{name} is downloaded')\n",
        "\n",
        "st = time.perf_counter()\n",
        "with ThreadPoolExecutor() as px:\n",
        "    px.map(download_images,urls)\n",
        "\n",
        "ed = time.perf_counter()\n",
        "print(f'finished in {round(ed-st, 2)} secs')\n",
        "\n",
        "# For doing the same thing with multiprocessing, we would use ProcessPoolExecutor which has similar methods like ThreadPoolExecutor\n",
        "\n",
        "# In multiprocessing, multiple subprocesses are spawned."
      ]
    },
    {
      "cell_type": "code",
      "execution_count": null,
      "metadata": {
        "colab": {
          "base_uri": "https://localhost:8080/"
        },
        "id": "uwj_dFimPcXh",
        "outputId": "3a014675-db06-4eb2-cfbc-7ac3713a5ccf"
      },
      "outputs": [
        {
          "name": "stdout",
          "output_type": "stream",
          "text": [
            "finished in 0.0 secs\n"
          ]
        }
      ],
      "source": [
        "# Branch Sum Problem in a binary tree:\n",
        "\n"
      ]
    },
    {
      "cell_type": "code",
      "execution_count": null,
      "metadata": {
        "colab": {
          "base_uri": "https://localhost:8080/"
        },
        "id": "vcC0ZnEO0VUB",
        "outputId": "7b579b86-40be-4e22-dca1-f6e2ba9e4cdf"
      },
      "outputs": [
        {
          "data": {
            "text/plain": [
              "4"
            ]
          },
          "execution_count": 28,
          "metadata": {},
          "output_type": "execute_result"
        }
      ],
      "source": [
        "# Given an array d of n distinct integers and an integer threshold t, how many \n",
        "# (a,b,c) index triplets exist that satisfy both of the following conditions? \n",
        "# 1) d[a] <d[b] < d[c] \n",
        "# 2) d[a]+d[b]+d[c] <= t\n",
        "\n",
        "from itertools import permutations\n",
        "def triplets(d,t):\n",
        "    count = 0\n",
        "    map = {i:v for i,v in enumerate(d)}\n",
        "    idx_combs = permutations(map,3)\n",
        "    for i in idx_combs:\n",
        "        if (map[i[0]] < map[i[1]] < map[i[2]]) and (map[i[0]]+map[i[1]]+map[i[2]]) <= t:\n",
        "            count += 1\n",
        "    return count\n",
        "    \n",
        "\n",
        "\n",
        "def count_triplets(d,t):\n",
        "    d.sort()  # sort the array in non-decreasing order\n",
        "    n = len(d)\n",
        "    count = 0\n",
        "    \n",
        "    # iterate over each index i in the sorted array d\n",
        "    for i in range(n):\n",
        "        j = i + 1\n",
        "        k = n - 1\n",
        "        \n",
        "        # find the largest value of k such that d[i]+d[j]+d[k] <= t\n",
        "        while j < k and d[i] + d[j] + d[k] > t:\n",
        "            k -= 1\n",
        "        \n",
        "        # count the number of valid (a,b,c) triplets that end at index i\n",
        "        if j < k:\n",
        "            count += (k - j) + 1\n",
        "    \n",
        "    return count\n",
        "\n",
        "from collections import defaultdict\n",
        "def countTriplets(arr, r):\n",
        "    ntuples = 0\n",
        "    div_r = defaultdict(lambda: 0)\n",
        "    r_val = defaultdict(lambda: 0)\n",
        "    for v in arr:\n",
        "        ntuples += div_r[v/r]\n",
        "        div_r[v] += r_val[v/r]\n",
        "        r_val[v] += 1\n",
        "\n",
        "    return ntuples\n",
        "\n",
        "\n",
        "triplets([5,1,4,2,6,3],8)\n"
      ]
    },
    {
      "cell_type": "code",
      "execution_count": null,
      "metadata": {
        "colab": {
          "base_uri": "https://localhost:8080/"
        },
        "id": "iJJceGD-SStC",
        "outputId": "21b6b339-cbdf-4821-a941-874e0788ece5"
      },
      "outputs": [
        {
          "data": {
            "text/plain": [
              "4"
            ]
          },
          "execution_count": 23,
          "metadata": {},
          "output_type": "execute_result"
        }
      ],
      "source": [
        "count_triplets([5,1,4,2,6,3],8)"
      ]
    },
    {
      "cell_type": "code",
      "execution_count": null,
      "metadata": {
        "colab": {
          "base_uri": "https://localhost:8080/"
        },
        "id": "3PsZr1Ku4dLj",
        "outputId": "f53965e0-9385-4fb5-af0d-dac7a9780521"
      },
      "outputs": [
        {
          "data": {
            "text/plain": [
              "[4, 4, 6]"
            ]
          },
          "execution_count": 10,
          "metadata": {},
          "output_type": "execute_result"
        }
      ],
      "source": [
        "from math import gcd\n",
        "\n",
        "def count_coprimes(A):\n",
        "    B = []\n",
        "    for a in A:\n",
        "        count = 0\n",
        "        for j in range(1, a+1):\n",
        "            if gcd(a, j) == 1:\n",
        "                count += 1\n",
        "        B.append(count)\n",
        "    return B\n",
        "\n",
        "\n",
        "count_coprimes([5,8,14])"
      ]
    },
    {
      "cell_type": "code",
      "execution_count": null,
      "metadata": {
        "colab": {
          "base_uri": "https://localhost:8080/"
        },
        "id": "AK7yC4qN5rvc",
        "outputId": "30c9fc57-aedb-409a-8977-de71f8ed2ae3"
      },
      "outputs": [
        {
          "data": {
            "text/plain": [
              "[4, 4, 6]"
            ]
          },
          "execution_count": 12,
          "metadata": {},
          "output_type": "execute_result"
        }
      ],
      "source": [
        "\n",
        "from math import gcd\n",
        "\n",
        "def quotient(n):\n",
        "    result = n\n",
        "    i = 2\n",
        "    while i*i <= n:\n",
        "        if n % i == 0:\n",
        "            while n % i == 0:\n",
        "                n //= i\n",
        "            result -= result // i\n",
        "        i += 1\n",
        "    if n > 1:\n",
        "        result -= result // n\n",
        "    return result\n",
        "\n",
        "def count_coprimes(A):\n",
        "    B = []\n",
        "    for a in A:\n",
        "        B.append(quotient(a))\n",
        "    return B\n",
        "\n",
        "count_coprimes([5,8,14])"
      ]
    },
    {
      "cell_type": "code",
      "execution_count": null,
      "metadata": {
        "colab": {
          "base_uri": "https://localhost:8080/"
        },
        "id": "XvWB74Fqn895",
        "outputId": "84e3670d-8907-4bfe-bd8c-57b5b3feb6a3"
      },
      "outputs": [
        {
          "name": "stdout",
          "output_type": "stream",
          "text": [
            "0 1 2 3 3\n",
            "1 2 3 3 4\n",
            "2 3 3 4 0\n",
            "3 3 4 0 10\n",
            "4 4 0 10 6\n",
            "5 0 10 6 5\n",
            "6 10 6 5 -1\n",
            "7 6 5 -1 -3\n",
            "8 5 -1 -3 2\n",
            "9 -1 -3 2 3\n",
            "[]\n"
          ]
        }
      ],
      "source": [
        "# Longest Peak\n",
        "\n",
        "def longest_peak(array):\n",
        "    #peaks = [array[i:i+3]for i,v in enumerate(array) if (v < array[i+1] < array[i+2]) and array[i+3] < array[i+2]]\n",
        "    # lastSeen = {}\n",
        "    # startIdx = 0\n",
        "    # longest = [0,1]\n",
        "    # for i, v in enumerate(string):\n",
        "    #     if v in lastSeen:\n",
        "    #         startIdx = max(startIdx, lastSeen[v]+1)\n",
        "    #     if longest[1] - longest[0] < i+1 - startIdx:\n",
        "    #         longest = [startIdx, i+1]\n",
        "    #     lastSeen[v] = i\n",
        "    # return len(string[longest[0]:longest[1]])\n",
        "\n",
        "array = [1,2,3,3,4,0,10,6,5,-1,-3,2,3]\n",
        "longest_peak(array)"
      ]
    },
    {
      "cell_type": "code",
      "execution_count": null,
      "metadata": {
        "id": "vk9TIDwOak8B"
      },
      "outputs": [],
      "source": [
        "# Daily Coding Problem\n",
        "\n",
        "# Easy - ReadN character from a file\n",
        "\n",
        "\n",
        "class IterativeRun:\n",
        "    position = 0\n",
        "\n",
        "    def __call__(self,n):\n",
        "        self.position += n\n",
        "        return self.position\n",
        "\n",
        "path = '/content/test_file.txt'\n",
        "def readN(n, path=path, file_read=False):\n",
        "    if n == 0:\n",
        "        print(f\"Nothing to print as n is 0\")\n",
        "        return   \n",
        "    lines = []\n",
        "    if not file_read:\n",
        "        with open(path,'r') as f:\n",
        "            lines = f.readlines()\n",
        "            file_read = True\n",
        "\n",
        "    if file_read:\n",
        "        for i in range(len(lines[0])):\n",
        "            line = lines[0][i:n]\n",
        "            break\n",
        "        yield line\n",
        "        \n",
        "        \n",
        "    #     print(f\"file_read\")\n",
        "    #     line = lines[0][n:]    \n",
        "    # else: \n",
        "    #     print(f\"not file_read\")\n",
        "    #     line = lines[0][:n]\n",
        "\n",
        "\n",
        "    \n"
      ]
    },
    {
      "cell_type": "code",
      "execution_count": null,
      "metadata": {
        "id": "7EFip_gO9QGp"
      },
      "outputs": [],
      "source": [
        "# Searching a missing no in a list\n",
        "\n",
        "def search_missing_no(arr):\n",
        "    if not arr:\n",
        "        return -1\n",
        "    length = len(arr)\n",
        "    mx = max(arr)\n",
        "    n_sum = int(abs(mx*(mx+1)/2))\n",
        "    list_sum = sum(arr)\n",
        "    return abs(n_sum-list_sum)"
      ]
    },
    {
      "cell_type": "code",
      "execution_count": null,
      "metadata": {
        "colab": {
          "base_uri": "https://localhost:8080/"
        },
        "id": "FCsnDSMX97s9",
        "outputId": "70d56216-588f-4777-92aa-7faad51b008b"
      },
      "outputs": [
        {
          "data": {
            "text/plain": [
              "5"
            ]
          },
          "execution_count": 23,
          "metadata": {},
          "output_type": "execute_result"
        }
      ],
      "source": [
        "search_missing_no([1,3,4,2,6,8,7])"
      ]
    },
    {
      "cell_type": "code",
      "execution_count": null,
      "metadata": {
        "colab": {
          "base_uri": "https://localhost:8080/"
        },
        "id": "wVebjemaegLK",
        "outputId": "3e213076-54a5-4ae3-af38-18b9677f8ef3"
      },
      "outputs": [
        {
          "name": "stdout",
          "output_type": "stream",
          "text": [
            "['catc', 'atca', 'tcat']\n",
            "['catc', 'atca', 'catc']\n",
            "['catc', 'tcat', 'catc']\n",
            "['atca', 'tcat', 'catc']\n"
          ]
        }
      ],
      "source": [
        "## Daily Coding problem - Facebook - Easy\n",
        "\n",
        "# Boggle is a game played on 4x4 grid of letters. \n",
        "# The goal is to find as many words as possible that be formed by a sequence of\n",
        "#  adjacent letters in the grid, using each cell at most once.\n",
        "# Given game board and a dictionary of valid words, implement a Boggle solver.\n",
        "\n",
        "board = [['c', 'a', 't', 'c'],\n",
        "         ['a', 't', 'c', 'a'],\n",
        "         ['t', 'c', 'a', 't'],\n",
        "         ['c', 'a', 't', 'c']]\n",
        "\n",
        "from itertools import combinations,permutations\n",
        "combs = combinations([i for i in board],3)\n",
        "for i in combs:\n",
        "    print([''.join(x) for x in i])\n",
        "    \n",
        "\n",
        "# words = ['cat', 'tact','act']\n",
        "# word_lengths = [len(i) for i in words]\n",
        "# min_length = min(word_lengths)\n",
        "# max_length = max(word_lengths)\n",
        "\n",
        "# distinct_chars = []\n",
        "# for row in board:\n",
        "#     for i in row:\n",
        "#         if i not in distinct_chars:\n",
        "#             distinct_chars.append(i)\n",
        "# print(distinct_chars)\n",
        "# from itertools import combinations\n",
        "# combs =[]\n",
        "# for i in range(min_length, max_length+1):\n",
        "#     combs.append(combinations(distinct_chars,i))\n",
        "# print(len(combs))\n",
        "# for comb in combs:\n",
        "#     print(comb)\n",
        "#     for i in comb:\n",
        "#         print(''.join(i))\n",
        "\n"
      ]
    },
    {
      "cell_type": "code",
      "execution_count": null,
      "metadata": {
        "colab": {
          "base_uri": "https://localhost:8080/"
        },
        "id": "xNtxZkxbuqbd",
        "outputId": "ddbd6989-f64b-4696-8cf6-b0f082fd6701"
      },
      "outputs": [
        {
          "name": "stdout",
          "output_type": "stream",
          "text": [
            "['t', 'c', 'a']\n"
          ]
        }
      ],
      "source": [
        "from collections import deque\n",
        "c = deque(['c','a','t'])\n",
        "c.rotate(4)\n",
        "print([''.join(i) for i in c])"
      ]
    },
    {
      "cell_type": "code",
      "execution_count": null,
      "metadata": {
        "colab": {
          "base_uri": "https://localhost:8080/"
        },
        "id": "mNPHQOV-cR1v",
        "outputId": "af17e5b3-1784-4780-f394-3affbeda1369"
      },
      "outputs": [
        {
          "data": {
            "text/plain": [
              "[[1, 2], [3, 8], [9, 10]]"
            ]
          },
          "execution_count": 3,
          "metadata": {},
          "output_type": "execute_result"
        }
      ],
      "source": [
        "# Merge Overlapping intervals\n",
        "\n",
        "intervals = [[1,2],[3,5],[4,7],[6,8],[9,10]]\n",
        "#intervals= [[1,22],[-20,30]]\n",
        "\n",
        "#intervals = [[2,3],[4,5],[6,7],[8,9],[1,10]]\n",
        "# expected output [[1,2],[3,8],[9,10]]\n",
        "\n",
        "def mergeOverlappingIntervals(intervals):\n",
        "    intervals.sort()\n",
        "    shortened =[intervals[0]]\n",
        "    idx = 1\n",
        "\n",
        "    while idx < len(intervals):\n",
        "        if intervals[idx][0] < shortened[-1][1]:\n",
        "            if  intervals[idx][0] < shortened[-1][0]:\n",
        "                shortened[-1][0] = intervals[idx][0]\n",
        "            if  shortened[-1][1] > intervals[idx][1] :\n",
        "                idx += 1\n",
        "                continue\n",
        "            else: \n",
        "                shortened[-1][1] = intervals[idx][1]\n",
        "        else: \n",
        "            shortened.append(intervals[idx])\n",
        "        idx += 1\n",
        "\n",
        "    return shortened\n",
        "\n",
        "mergeOverlappingIntervals(intervals)"
      ]
    },
    {
      "cell_type": "code",
      "execution_count": null,
      "metadata": {
        "colab": {
          "base_uri": "https://localhost:8080/"
        },
        "id": "LzpZYD36Xd5q",
        "outputId": "317913de-a7e6-4a20-db3e-973395fe7113"
      },
      "outputs": [
        {
          "name": "stdout",
          "output_type": "stream",
          "text": [
            "False\n"
          ]
        }
      ],
      "source": [
        "# Zero Sum Subarray\n",
        "\n",
        "nums = [-5,-5,2,7,-2]\n",
        "\n",
        "def zeroSumSubarray(nums):\n",
        "    if sum(nums) == 0:\n",
        "        return nums\n",
        "\n",
        "    sums = set([0])\n",
        "    curr = 0\n",
        "    for num in nums:\n",
        "        curr += num\n",
        "        if curr in sums:\n",
        "            return True\n",
        "        sums.add(curr)\n",
        "    return False\n",
        "print(zeroSumSubarray(nums))"
      ]
    },
    {
      "cell_type": "code",
      "execution_count": null,
      "metadata": {
        "colab": {
          "base_uri": "https://localhost:8080/"
        },
        "id": "UxQa525OrC20",
        "outputId": "ce1bd124-b786-435b-ff74-d760ba9e42b1"
      },
      "outputs": [
        {
          "data": {
            "text/plain": [
              "6"
            ]
          },
          "execution_count": 14,
          "metadata": {},
          "output_type": "execute_result"
        }
      ],
      "source": [
        "# H-Index for research paper metric\n",
        "\n",
        "# In Academia, the h-index is a metric used to calculate the impact of a researcher's\n",
        "# papers. A researcher has index h if at least h of her N papers have h citations each. \n",
        "# If there are multiple h satisfying this formula, the max is chosen.\n",
        "\n",
        "x = [4,3,0,1,5,2,7,8,10,9,12,6]\n",
        "def h_index(x):\n",
        "    x.sort(reverse=True)\n",
        "    idx = 0 \n",
        "    while idx < len(x)-1:\n",
        "        if (x[idx+1] < x[idx]) and (x[idx] == len(x[:idx+1])):\n",
        "            return( x[idx] )\n",
        "        idx += 1\n",
        "\n",
        "h_index(x)"
      ]
    },
    {
      "cell_type": "code",
      "execution_count": null,
      "metadata": {
        "colab": {
          "base_uri": "https://localhost:8080/"
        },
        "id": "YVCUodr630o7",
        "outputId": "6444116b-6b54-4f53-eb5a-6393d02856bb"
      },
      "outputs": [
        {
          "name": "stdout",
          "output_type": "stream",
          "text": [
            "1 2\n",
            "2\n"
          ]
        }
      ],
      "source": [
        "# If you are given a histogram consisting of rectangles of differnet heights.\n",
        "# These heights are represented in an input list, such as [1,3,2,5]\n",
        "#\n",
        "#          *\n",
        "#          *\n",
        "#    *     *\n",
        "#    *  *  *\n",
        "# *  *  *  *\n",
        "\n",
        "# then the largest rectangle is 2 x 3 as is in the bottom right of the histogram\n",
        "x = [1,3,2,5]\n",
        "def largest_rectangle(x):\n",
        "    \n",
        "print(largest_rectangle(x))"
      ]
    },
    {
      "cell_type": "code",
      "execution_count": null,
      "metadata": {
        "colab": {
          "base_uri": "https://localhost:8080/"
        },
        "id": "bn_M9EPwOrJp",
        "outputId": "38c9f249-67bc-46b4-fdfe-4e5e2da61737"
      },
      "outputs": [
        {
          "name": "stdout",
          "output_type": "stream",
          "text": [
            "[3, 5, 3, 1, 1, 1, 3, 1, -1, -1, -1, -1]\n"
          ]
        }
      ],
      "source": [
        "# Next greater element\n",
        "\n",
        "X = [4,12,5,3,1,2,5,3,1,2,4,6]\n",
        "stack = []\n",
        "result = []\n",
        "for i in X[::-1]:\n",
        "    while stack and stack[-1] > i:\n",
        "        stack.pop()\n",
        "    if stack:\n",
        "        result.append(stack[-1])\n",
        "    else:\n",
        "        result.append(-1)\n",
        "    stack.append(i)\n",
        "print(result[::-1])"
      ]
    },
    {
      "cell_type": "code",
      "execution_count": null,
      "metadata": {
        "colab": {
          "base_uri": "https://localhost:8080/"
        },
        "id": "kn7NXXIMafR7",
        "outputId": "6a1da55e-b1a1-4c7d-841c-ff8fd787c9df"
      },
      "outputs": [
        {
          "name": "stdout",
          "output_type": "stream",
          "text": [
            "[12, -1, 6, 5, 2, 5, 6, 4, 2, 4, 6, -1]\n"
          ]
        }
      ],
      "source": [
        "res = [-1] * len(X)\n",
        "st = []\n",
        "for i in range(len(X)):\n",
        "    while st and X[st[-1]] > X[i]:\n",
        "        res[st.pop()] = X[i]\n",
        "    st.append(i)\n",
        "print(res)"
      ]
    },
    {
      "cell_type": "code",
      "execution_count": null,
      "metadata": {
        "colab": {
          "base_uri": "https://localhost:8080/"
        },
        "id": "tNoAXcTqGMW7",
        "outputId": "df00a180-129d-41ce-f554-057a0dd68395"
      },
      "outputs": [
        {
          "name": "stdout",
          "output_type": "stream",
          "text": [
            "[-1, -1]\n"
          ]
        }
      ],
      "source": [
        "# Finding the first and last element in a sorted array\n",
        "nums = [5,7,7,8,8,10]\n",
        "target = 6\n",
        "pos = []\n",
        "for i,v in enumerate(nums):\n",
        "    if v == target:\n",
        "        pos.append(i)\n",
        "        break\n",
        "for i,v in enumerate(nums[::-1]):\n",
        "    if v == target:\n",
        "        pos.append(len(nums)-1 - i)\n",
        "        break\n",
        "if pos:\n",
        "    print(pos)\n",
        "else: print([-1,-1])"
      ]
    },
    {
      "cell_type": "markdown",
      "metadata": {
        "id": "mxFS0HoTfURE"
      },
      "source": [
        "Problem: Shopping Cart\n",
        "\n",
        "Implement a code for a supermarket checkout that calculates the total price of a no of items. In a normal supermarket, things are identified using Stock Keeping Unit's or SKU's. In our store we'll use individual letters of the alphabet (A, B, C and so on)\n",
        "\n",
        "![image.png](data:image/png;base64,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)\n",
        "\n",
        "Out checkout accepts, items in any order, so that if we scan a B, an A and another B, we'll recognize, two B's and price them if there is a special price. Because the pricing changes frequently, we need to be able to pass in a set of pricing rules each time, we start handling a checkout transaction.\n",
        "\n",
        "The solutions should be extendable and maintainable with changing requirements.\n",
        "\n",
        "\n"
      ]
    },
    {
      "cell_type": "code",
      "execution_count": null,
      "metadata": {
        "colab": {
          "base_uri": "https://localhost:8080/",
          "height": 240
        },
        "id": "ew7_n7GeIk63",
        "outputId": "522e952e-2d3f-462c-ccac-8869c0d73da4"
      },
      "outputs": [
        {
          "ename": "TypeError",
          "evalue": "ignored",
          "output_type": "error",
          "traceback": [
            "\u001b[0;31m---------------------------------------------------------------------------\u001b[0m",
            "\u001b[0;31mTypeError\u001b[0m                                 Traceback (most recent call last)",
            "\u001b[0;32m<ipython-input-24-754e15ea97cd>\u001b[0m in \u001b[0;36m<module>\u001b[0;34m\u001b[0m\n\u001b[1;32m      6\u001b[0m     \u001b[0;32mif\u001b[0m \u001b[0mnums\u001b[0m\u001b[0;34m[\u001b[0m\u001b[0midx\u001b[0m\u001b[0;34m]\u001b[0m \u001b[0;34m==\u001b[0m \u001b[0mtarget\u001b[0m\u001b[0;34m:\u001b[0m\u001b[0;34m\u001b[0m\u001b[0;34m\u001b[0m\u001b[0m\n\u001b[1;32m      7\u001b[0m         \u001b[0mpos\u001b[0m\u001b[0;34m.\u001b[0m\u001b[0mappend\u001b[0m\u001b[0;34m(\u001b[0m\u001b[0midx\u001b[0m\u001b[0;34m)\u001b[0m\u001b[0;34m\u001b[0m\u001b[0;34m\u001b[0m\u001b[0m\n\u001b[0;32m----> 8\u001b[0;31m         \u001b[0mX\u001b[0m \u001b[0;34m=\u001b[0m \u001b[0mX\u001b[0m\u001b[0;34m[\u001b[0m\u001b[0midx\u001b[0m\u001b[0;34m:\u001b[0m\u001b[0;34m]\u001b[0m\u001b[0;34m\u001b[0m\u001b[0;34m\u001b[0m\u001b[0m\n\u001b[0m\u001b[1;32m      9\u001b[0m     \u001b[0midx\u001b[0m \u001b[0;34m+=\u001b[0m \u001b[0;36m1\u001b[0m\u001b[0;34m\u001b[0m\u001b[0;34m\u001b[0m\u001b[0m\n\u001b[1;32m     10\u001b[0m \u001b[0;32mif\u001b[0m \u001b[0mpos\u001b[0m\u001b[0;34m:\u001b[0m\u001b[0;34m\u001b[0m\u001b[0;34m\u001b[0m\u001b[0m\n",
            "\u001b[0;31mTypeError\u001b[0m: 'int' object is not subscriptable"
          ]
        }
      ],
      "source": [
        "# Dijkstra's shortest path algorithm\n",
        "\n",
        "fo"
      ]
    },
    {
      "cell_type": "code",
      "execution_count": null,
      "metadata": {
        "id": "ZnydNu38kagL"
      },
      "outputs": [],
      "source": [
        "def my_pow(x,n):\n",
        "    if n < 0:\n",
        "        x = 1/x\n",
        "        return x**abs(n)\n",
        "    return x ** (n)\n"
      ]
    },
    {
      "cell_type": "code",
      "execution_count": null,
      "metadata": {
        "id": "b7DIK8z0OfWK"
      },
      "outputs": [],
      "source": []
    },
    {
      "cell_type": "code",
      "execution_count": null,
      "metadata": {
        "colab": {
          "base_uri": "https://localhost:8080/"
        },
        "id": "YzMxNpn0mFvc",
        "outputId": "987118fc-b491-41b2-9604-b487b6015c0b"
      },
      "outputs": [
        {
          "data": {
            "text/plain": [
              "1.4142135623730951"
            ]
          },
          "execution_count": 15,
          "metadata": {},
          "output_type": "execute_result"
        }
      ],
      "source": [
        "my_pow(2,1/2)"
      ]
    },
    {
      "cell_type": "code",
      "execution_count": null,
      "metadata": {
        "colab": {
          "base_uri": "https://localhost:8080/"
        },
        "id": "pOG1-GmdOgR6",
        "outputId": "cea9a749-32ff-4ecb-bdea-bdbdec519afb"
      },
      "outputs": [
        {
          "name": "stdout",
          "output_type": "stream",
          "text": [
            "{'quantity': 2, 'on_offer': False}\n"
          ]
        }
      ],
      "source": [
        "test = {'D': {'quantity':2,'on_offer':False}, 'E': {'quantity':1,'on_offer':True}}\n",
        "for i in test:\n",
        "    if i == 'D':\n",
        "        print(test[i])"
      ]
    },
    {
      "cell_type": "code",
      "execution_count": null,
      "metadata": {
        "colab": {
          "base_uri": "https://localhost:8080/",
          "height": 35
        },
        "id": "uPDcLNg5fCDq",
        "outputId": "1ba4a893-2542-48e2-9641-5b35f1000f48"
      },
      "outputs": [
        {
          "data": {
            "application/vnd.google.colaboratory.intrinsic+json": {
              "type": "string"
            },
            "text/plain": [
              "'A'"
            ]
          },
          "execution_count": 3,
          "metadata": {},
          "output_type": "execute_result"
        }
      ],
      "source": [
        "A = 'StringA'\n",
        "A.rstrip()[-1]"
      ]
    },
    {
      "cell_type": "markdown",
      "metadata": {
        "id": "xSuhN_wtRxRl"
      },
      "source": [
        "Codility - Not Solved Yet ( Asked in Microsoft )\n",
        "\n",
        "We are given a two dimensional board of  size N x M (N rows and M columns). Each field of the board can be empty('.'), may contain an obstacle ('X') or may have a character in it. The character might be either an assassin ('A') or a guard. \n",
        "\n",
        "Each guard stands still and looks straight ahead, in the direction they are facing. \n",
        "Every guard looks in one of the four directions(up, down, left or right on the board) and is represented by one of four symbols. A guard denoted by '<' is looking to the left; by '>', to the right;'^',up; or 'v', down. \n",
        "\n",
        "The guards can see everything in the straight line in the direction in which they are facing, as far as the first obstacle('X' or any other guard) or the edge of the board. The guards view is blocked if there is another guard or obstacle in his sight. For example if a  The assassin can move from the current field to any other empty field with a shared edge. The assassin can not move onto fields containing obstacles or enemies. \n",
        "\n",
        "Write a python program, that given an array B consisting of N strings denoting rows of the array, returns True if is it possible for the assassin to sneak from their current location to the bottom right cell of the board undetected and False otherwise. \n",
        "\n",
        "Given B= [\"X.....>\",\"..v..X.\", \".>..X..\", \"A......\"], the program should return False. \n",
        "\n",
        "Given B= [\"X.....>\",\"..^..Xv\", \".>..X..\", \"A......\"], the program should return False. \n",
        "\n",
        "Given B= [\"X.....>\",\"..^..X.\", \".>..X..\", \"A......\"], the program should return True. \n",
        "\n",
        "Given B= [\"...Xv\", \"AX..^\", \".XX..\"], the program should return True. \n",
        "\n",
        "Given B= [\"A>.\", \"...\"], the program should return True.\n"
      ]
    },
    {
      "cell_type": "code",
      "execution_count": null,
      "metadata": {
        "id": "X90iWDMKTGby"
      },
      "outputs": [],
      "source": [
        "def is_assassin_safe(B):\n",
        "    # Find the initial position of the assassin\n",
        "    for i in range(len(B)):\n",
        "        for j in range(len(B[0])):\n",
        "            if B[i][j] == 'A':\n",
        "                start = (i, j)\n",
        "                break\n",
        "    \n",
        "    # Initialize the visited set and the queue for BFS\n",
        "    visited = set()\n",
        "    queue = [(start,)]\n",
        "    \n",
        "    # Define the helper function to check visibility\n",
        "    def is_visible(pos):\n",
        "        x, y = pos\n",
        "        for i in range(x, len(B)):\n",
        "            if B[i][y] == 'X' or B[i][y] in '<>^v':\n",
        "                break\n",
        "            if B[i][y] == 'A':\n",
        "                continue\n",
        "            return True\n",
        "        for i in range(x, -1, -1):\n",
        "            if B[i][y] == 'X' or B[i][y] in '<>^v':\n",
        "                break\n",
        "            if B[i][y] == 'A':\n",
        "                continue\n",
        "            return True\n",
        "        for j in range(y, len(B[0])):\n",
        "            if B[x][j] == 'X' or B[x][j] in '<>^v':\n",
        "                break\n",
        "            if B[x][j] == 'A':\n",
        "                continue\n",
        "            return True\n",
        "        for j in range(y, -1, -1):\n",
        "            if B[x][j] == 'X' or B[x][j] in '<>^v':\n",
        "                break\n",
        "            if B[x][j] == 'A':\n",
        "                continue\n",
        "            return True\n",
        "        return False\n",
        "    \n",
        "    # BFS loop\n",
        "    while queue:\n",
        "        path = queue.pop(0)\n",
        "        curr_pos = path[-1]\n",
        "        if curr_pos == (len(B) - 1, len(B[0]) - 1):\n",
        "            return True\n",
        "        if curr_pos in visited:\n",
        "            continue\n",
        "        visited.add(curr_pos)\n",
        "        if is_visible(curr_pos):\n",
        "            continue\n",
        "        x, y = curr_pos\n",
        "        for dx, dy in [(0, 1), (0, -1), (1, 0), (-1, 0)]:\n",
        "            new_x, new_y = x + dx, y + dy\n",
        "            if 0 <= new_x < len(B) and 0 <= new_y < len(B[0]) and B[new_x][new_y] != 'X' and (new_x, new_y) not in visited:\n",
        "                queue.append(path + ((new_x, new_y),))\n",
        "    \n",
        "    # No path found\n",
        "    return False\n"
      ]
    },
    {
      "cell_type": "code",
      "execution_count": null,
      "metadata": {
        "colab": {
          "base_uri": "https://localhost:8080/"
        },
        "id": "hKYBq3gzTOaJ",
        "outputId": "e03bf4c0-18f9-421d-d942-164463b6f331"
      },
      "outputs": [
        {
          "name": "stdout",
          "output_type": "stream",
          "text": [
            "False\n"
          ]
        }
      ],
      "source": [
        "B = [\"X.....>\", \"..v..X.\", \".>..X..\", \"A......\"]\n",
        "\n",
        "print(is_assassin_safe(B))"
      ]
    },
    {
      "cell_type": "code",
      "execution_count": null,
      "metadata": {
        "colab": {
          "base_uri": "https://localhost:8080/"
        },
        "id": "7nYbFk_ZWT1C",
        "outputId": "eb57eec0-0e65-41e0-ea42-f8f4cfd5677f"
      },
      "outputs": [
        {
          "name": "stdout",
          "output_type": "stream",
          "text": [
            "False\n"
          ]
        }
      ],
      "source": [
        "[\"X.....>\", \"..^..X.\", \".<..XX.\", \"A.....\"]\n",
        "print(is_sneak_possible(B))"
      ]
    },
    {
      "cell_type": "code",
      "execution_count": null,
      "metadata": {
        "colab": {
          "base_uri": "https://localhost:8080/"
        },
        "id": "-mnaqRyrTUAp",
        "outputId": "a6946f08-4245-415d-82eb-a9f6d48e8b35"
      },
      "outputs": [
        {
          "name": "stdout",
          "output_type": "stream",
          "text": [
            "False\n"
          ]
        }
      ],
      "source": [
        "B = [\"...Xv\", \"AX..^\", \".XX..\"]\n",
        "\n",
        "print(is_assassin_safe(B)) "
      ]
    },
    {
      "cell_type": "code",
      "execution_count": null,
      "metadata": {
        "colab": {
          "base_uri": "https://localhost:8080/"
        },
        "id": "OLC1vvp_Uw8O",
        "outputId": "31d0ed25-40e2-4262-afe1-84590d99b82a"
      },
      "outputs": [
        {
          "name": "stdout",
          "output_type": "stream",
          "text": [
            "False\n"
          ]
        }
      ],
      "source": [
        "B = [\"A>.\", \"...\"]\n",
        "print(is_assassin_safe(B)) "
      ]
    },
    {
      "cell_type": "markdown",
      "metadata": {
        "id": "4kGKwbm0sdMw"
      },
      "source": [
        "Given the points on a ROC curve, estimate the AUROC value(Area under the ROC curve) using the trapezoidal rule. \n",
        "\n",
        "Write a  fuction in python  that receives two arguments, X and Y ( both arrays of size N ), such that ith point on ROC curve\n",
        "has coordinates (X[i],Y[i]) and using the trapezoidal rule, estimates the AUROC value. The result will be accepted, if its \n",
        "absolute error is atmost 10.\n",
        "\n",
        "For example, for X= [0.00, 0.2, 0.33, 0.43, 0.63, 0.66, 1.00] and Y= [0.00, 0.25,0.25,0.50,0.50,1.00,1.00], your function should\n",
        "return 0.5575.\n"
      ]
    },
    {
      "cell_type": "code",
      "execution_count": null,
      "metadata": {
        "id": "wLhVgRGDsgYQ"
      },
      "outputs": [],
      "source": [
        "def calc_auroc(X, Y):\n",
        "    N = len(X)\n",
        "    auroc = 0.0\n",
        "    for i in range(1, N):\n",
        "        auroc += (X[i] - X[i-1]) * (Y[i] + Y[i-1])\n",
        "    return auroc / 2"
      ]
    },
    {
      "cell_type": "code",
      "execution_count": null,
      "metadata": {
        "colab": {
          "base_uri": "https://localhost:8080/"
        },
        "id": "MFVV3xN3swpU",
        "outputId": "56ca591a-daf7-4a2a-a323-1d19216a83ae"
      },
      "outputs": [
        {
          "name": "stdout",
          "output_type": "stream",
          "text": [
            "0.5575\n"
          ]
        }
      ],
      "source": [
        "X = [0.00, 0.2, 0.33, 0.43, 0.63, 0.66, 1.00]\n",
        "Y = [0.00, 0.25, 0.25, 0.50, 0.50, 1.00, 1.00]\n",
        "\n",
        "auroc = calc_auroc(X, Y)\n",
        "print(auroc)"
      ]
    }
  ],
  "metadata": {
    "colab": {
      "provenance": []
    },
    "kernelspec": {
      "display_name": "Python 3",
      "name": "python3"
    },
    "language_info": {
      "name": "python",
      "version": "3.10.4"
    }
  },
  "nbformat": 4,
  "nbformat_minor": 0
}
